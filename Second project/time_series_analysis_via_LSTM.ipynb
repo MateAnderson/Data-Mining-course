{
  "nbformat": 4,
  "nbformat_minor": 0,
  "metadata": {
    "kernelspec": {
      "display_name": "Python 3",
      "language": "python",
      "name": "python3"
    },
    "language_info": {
      "codemirror_mode": {
        "name": "ipython",
        "version": 3
      },
      "file_extension": ".py",
      "mimetype": "text/x-python",
      "name": "python",
      "nbconvert_exporter": "python",
      "pygments_lexer": "ipython3",
      "version": "3.6.9"
    },
    "colab": {
      "name": "Forth_project.ipynb",
      "provenance": [],
      "collapsed_sections": []
    }
  },
  "cells": [
    {
      "cell_type": "markdown",
      "metadata": {
        "id": "vx14Prnf-hqT"
      },
      "source": [
        "![polytechnic of tehran](https://www.irangi.org/uploads/images/4_1560089256_1291127534.png)\n",
        "<div style=\"text-align:center\"><span style=\"color:blue; font-family:Georgia; font-size:2em;\">BTC Price Forecasting</span></div>.\n",
        "\n",
        "<div style=\"text-align:center\"><span style=\"color:blue; font-family:Georgia; font-size:2em;\">Professor: Dr. A.MohammadPour (adel.m@aut.ac.ir)</span></div>.     \n",
        "\n",
        "<div style=\"text-align:center\"><span style=\"color:blue; font-family:Georgia; font-size:2em;\">TAs:Elmira Talebi Anaraki (e.talebi@aut.ac.ir)</span></div>.\n",
        "\n",
        "<div style=\"text-align:center\"><span style=\"color:blue; font-family:Georgia; font-size:2em;\">Student: Mohammadreza Ardestani (ardestani.zr@gmail.com), Saba Sadeghi (sabasedegi@gamil.com) </span></div>\n",
        "\n",
        "\n",
        "Date: June,20,2021\n",
        "\n"
      ]
    },
    {
      "cell_type": "markdown",
      "metadata": {
        "id": "2SMPFK5n0Ioi"
      },
      "source": [
        "### Stock Market Prediction And Forecasting Using Stacked LSTM"
      ]
    },
    {
      "cell_type": "code",
      "metadata": {
        "id": "TLw4EdM80Iou"
      },
      "source": [
        "### Keras and Tensorflow >2.0"
      ],
      "execution_count": null,
      "outputs": []
    },
    {
      "cell_type": "code",
      "metadata": {
        "id": "yrM_XJz20IpK"
      },
      "source": [
        "import pandas as pd"
      ],
      "execution_count": null,
      "outputs": []
    },
    {
      "cell_type": "code",
      "metadata": {
        "id": "D5JPUddt7gQ5"
      },
      "source": [
        "# Step 3: import dataset\n",
        "# data link (on google drive) :\n",
        "# https://drive.google.com/file/d/1eY7dAa-YeM3bXsVWfcULwTZnISUQYppc/view?usp=sharing\n",
        "\n",
        "def loadFromGoogleDrive(url = None):\n",
        "    # loading csv data from googleDrive\n",
        "    if url == None:\n",
        "        url = \"https://drive.google.com/file/d/1WZzdZBT4QSrLKWHmA1KRUVm-AKE-LOGK/view?usp=sharing\"\n",
        "\n",
        "    path = 'https://drive.google.com/uc?export=download&id='+url.split('/')[-2]\n",
        "    df = pd.read_csv(path)\n",
        "    df2= pd.read_csv(path,index_col='date',parse_dates=True)\n",
        "    #df['Date'] = pd.to_datetime(df.Date)# Setting the index\n",
        "    #df.set_index('Date', inplace=True)# Datetime conversion\n",
        "\n",
        "    return df , df2\n",
        "\n",
        "\n",
        "df , df2 = loadFromGoogleDrive(\"https://drive.google.com/file/d/14AQUegTVp-cfLL9FBONR_KRLfi93Wxj_/view?usp=sharing\")\n",
        "# print(df)# we don't need df anymore , we gonna use df1\n"
      ],
      "execution_count": null,
      "outputs": []
    },
    {
      "cell_type": "code",
      "metadata": {
        "id": "4hPpsMKE0Ipj"
      },
      "source": [
        "df1=df.reset_index()['close']"
      ],
      "execution_count": null,
      "outputs": []
    },
    {
      "cell_type": "code",
      "metadata": {
        "colab": {
          "base_uri": "https://localhost:8080/"
        },
        "id": "n0biueAu0Ipo",
        "outputId": "d8f67eab-dfd2-4493-e87f-2feb24bfe52d"
      },
      "source": [
        "df1"
      ],
      "execution_count": null,
      "outputs": [
        {
          "output_type": "execute_result",
          "data": {
            "text/plain": [
              "0       132.045\n",
              "1       131.780\n",
              "2       130.280\n",
              "3       130.535\n",
              "4       129.960\n",
              "         ...   \n",
              "1253    314.960\n",
              "1254    313.140\n",
              "1255    319.230\n",
              "1256    316.850\n",
              "1257    318.890\n",
              "Name: close, Length: 1258, dtype: float64"
            ]
          },
          "metadata": {
            "tags": []
          },
          "execution_count": 10
        }
      ]
    },
    {
      "cell_type": "markdown",
      "metadata": {
        "id": "hOMxtw6j1s_E"
      },
      "source": [
        "# Yahoo! finance"
      ]
    },
    {
      "cell_type": "code",
      "metadata": {
        "id": "-fLWeTSK1qD6",
        "colab": {
          "base_uri": "https://localhost:8080/"
        },
        "outputId": "629a6cb6-d1ca-4269-eb6a-25e9c78b8c5f"
      },
      "source": [
        "!pip install yfinance\n",
        "import yfinance as yf"
      ],
      "execution_count": null,
      "outputs": [
        {
          "output_type": "stream",
          "text": [
            "Collecting yfinance\n",
            "  Downloading https://files.pythonhosted.org/packages/a7/ee/315752b9ef281ba83c62aa7ec2e2074f85223da6e7e74efb4d3e11c0f510/yfinance-0.1.59.tar.gz\n",
            "Requirement already satisfied: pandas>=0.24 in /usr/local/lib/python3.7/dist-packages (from yfinance) (1.1.5)\n",
            "Requirement already satisfied: numpy>=1.15 in /usr/local/lib/python3.7/dist-packages (from yfinance) (1.19.5)\n",
            "Requirement already satisfied: requests>=2.20 in /usr/local/lib/python3.7/dist-packages (from yfinance) (2.23.0)\n",
            "Requirement already satisfied: multitasking>=0.0.7 in /usr/local/lib/python3.7/dist-packages (from yfinance) (0.0.9)\n",
            "Collecting lxml>=4.5.1\n",
            "\u001b[?25l  Downloading https://files.pythonhosted.org/packages/30/c0/d0526314971fc661b083ab135747dc68446a3022686da8c16d25fcf6ef07/lxml-4.6.3-cp37-cp37m-manylinux2014_x86_64.whl (6.3MB)\n",
            "\u001b[K     |████████████████████████████████| 6.3MB 4.4MB/s \n",
            "\u001b[?25hRequirement already satisfied: python-dateutil>=2.7.3 in /usr/local/lib/python3.7/dist-packages (from pandas>=0.24->yfinance) (2.8.1)\n",
            "Requirement already satisfied: pytz>=2017.2 in /usr/local/lib/python3.7/dist-packages (from pandas>=0.24->yfinance) (2018.9)\n",
            "Requirement already satisfied: chardet<4,>=3.0.2 in /usr/local/lib/python3.7/dist-packages (from requests>=2.20->yfinance) (3.0.4)\n",
            "Requirement already satisfied: certifi>=2017.4.17 in /usr/local/lib/python3.7/dist-packages (from requests>=2.20->yfinance) (2020.12.5)\n",
            "Requirement already satisfied: urllib3!=1.25.0,!=1.25.1,<1.26,>=1.21.1 in /usr/local/lib/python3.7/dist-packages (from requests>=2.20->yfinance) (1.24.3)\n",
            "Requirement already satisfied: idna<3,>=2.5 in /usr/local/lib/python3.7/dist-packages (from requests>=2.20->yfinance) (2.10)\n",
            "Requirement already satisfied: six>=1.5 in /usr/local/lib/python3.7/dist-packages (from python-dateutil>=2.7.3->pandas>=0.24->yfinance) (1.15.0)\n",
            "Building wheels for collected packages: yfinance\n",
            "  Building wheel for yfinance (setup.py) ... \u001b[?25l\u001b[?25hdone\n",
            "  Created wheel for yfinance: filename=yfinance-0.1.59-py2.py3-none-any.whl size=23455 sha256=7fe7a709ce9a272adfc9fc3990c6ac35487eec1131a922c70fc7a92589fe5011\n",
            "  Stored in directory: /root/.cache/pip/wheels/f8/2a/0f/4b5a86e1d52e451757eb6bc17fd899629f0925c777741b6d04\n",
            "Successfully built yfinance\n",
            "Installing collected packages: lxml, yfinance\n",
            "  Found existing installation: lxml 4.2.6\n",
            "    Uninstalling lxml-4.2.6:\n",
            "      Successfully uninstalled lxml-4.2.6\n",
            "Successfully installed lxml-4.6.3 yfinance-0.1.59\n"
          ],
          "name": "stdout"
        }
      ]
    },
    {
      "cell_type": "code",
      "metadata": {
        "colab": {
          "base_uri": "https://localhost:8080/"
        },
        "id": "_sVtz8qA1pvu",
        "outputId": "f251a1fa-c313-4ca6-de78-bd4eeafa5425"
      },
      "source": [
        "dt= yf.download(tickers='BTC-USD',period='100mo',interval='1d')"
      ],
      "execution_count": null,
      "outputs": [
        {
          "output_type": "stream",
          "text": [
            "\r[*********************100%***********************]  1 of 1 completed\n"
          ],
          "name": "stdout"
        }
      ]
    },
    {
      "cell_type": "code",
      "metadata": {
        "colab": {
          "base_uri": "https://localhost:8080/"
        },
        "id": "MuHqCwl51-oj",
        "outputId": "301fb1ac-08fc-4264-f07e-4f26f3bd59d3"
      },
      "source": [
        "dt.info()"
      ],
      "execution_count": null,
      "outputs": [
        {
          "output_type": "stream",
          "text": [
            "<class 'pandas.core.frame.DataFrame'>\n",
            "DatetimeIndex: 2458 entries, 2014-09-17 to 2021-06-13\n",
            "Data columns (total 6 columns):\n",
            " #   Column     Non-Null Count  Dtype  \n",
            "---  ------     --------------  -----  \n",
            " 0   Open       2458 non-null   float64\n",
            " 1   High       2458 non-null   float64\n",
            " 2   Low        2458 non-null   float64\n",
            " 3   Close      2458 non-null   float64\n",
            " 4   Adj Close  2458 non-null   float64\n",
            " 5   Volume     2458 non-null   int64  \n",
            "dtypes: float64(5), int64(1)\n",
            "memory usage: 134.4 KB\n"
          ],
          "name": "stdout"
        }
      ]
    },
    {
      "cell_type": "code",
      "metadata": {
        "id": "zn-nxiBL2XsH"
      },
      "source": [
        "dt.drop(['Low', 'High','Adj Close','Volume','Open'], axis='columns', inplace=True)"
      ],
      "execution_count": null,
      "outputs": []
    },
    {
      "cell_type": "code",
      "metadata": {
        "colab": {
          "base_uri": "https://localhost:8080/"
        },
        "id": "hHThgWqX2joL",
        "outputId": "b0707ad1-15a4-41d1-cd32-66af34a4bb15"
      },
      "source": [
        "dt.info()"
      ],
      "execution_count": null,
      "outputs": [
        {
          "output_type": "stream",
          "text": [
            "<class 'pandas.core.frame.DataFrame'>\n",
            "DatetimeIndex: 2458 entries, 2014-09-17 to 2021-06-13\n",
            "Data columns (total 1 columns):\n",
            " #   Column  Non-Null Count  Dtype  \n",
            "---  ------  --------------  -----  \n",
            " 0   Close   2458 non-null   float64\n",
            "dtypes: float64(1)\n",
            "memory usage: 38.4 KB\n"
          ],
          "name": "stdout"
        }
      ]
    },
    {
      "cell_type": "markdown",
      "metadata": {
        "id": "-viN8lGH1qwf"
      },
      "source": [
        "# the rest"
      ]
    },
    {
      "cell_type": "code",
      "metadata": {
        "colab": {
          "base_uri": "https://localhost:8080/",
          "height": 719
        },
        "id": "llC5Uh0m0Ipu",
        "outputId": "7af230d7-97e1-4a12-b2ad-ffb79eae358d"
      },
      "source": [
        "import matplotlib.pyplot as plt\n",
        "from matplotlib.pylab import rcParams \n",
        "plt.rcParams['figure.figsize']= (18,12)\n",
        "plt.rcParams['axes.grid']= False\n",
        "plt.rcParams['font.size']= 10\n",
        "plt.rcParams['font.style']= 'normal'\n",
        "plt.plot(dt)"
      ],
      "execution_count": null,
      "outputs": [
        {
          "output_type": "execute_result",
          "data": {
            "text/plain": [
              "[<matplotlib.lines.Line2D at 0x7f9bc28ff090>]"
            ]
          },
          "metadata": {
            "tags": []
          },
          "execution_count": 16
        },
        {
          "output_type": "display_data",
          "data": {
            "image/png": "[encoded data removed]",
            "text/plain": [
              "<Figure size 1296x864 with 1 Axes>"
            ]
          },
          "metadata": {
            "tags": [],
            "needs_background": "light"
          }
        }
      ]
    },
    {
      "cell_type": "code",
      "metadata": {
        "id": "1Bk6vtil2sZt"
      },
      "source": [
        "df1 = dt"
      ],
      "execution_count": null,
      "outputs": []
    },
    {
      "cell_type": "code",
      "metadata": {
        "id": "GfZUZxoj0Ipw"
      },
      "source": [
        "### LSTM are sensitive to the scale of the data. so we apply MinMax scaler "
      ],
      "execution_count": null,
      "outputs": []
    },
    {
      "cell_type": "code",
      "metadata": {
        "id": "DANa0rYr0Ipx"
      },
      "source": [
        "import numpy as np"
      ],
      "execution_count": null,
      "outputs": []
    },
    {
      "cell_type": "code",
      "metadata": {
        "colab": {
          "base_uri": "https://localhost:8080/",
          "height": 455
        },
        "id": "ETtCEhZ-0Ipz",
        "outputId": "ac9c862b-75a8-4bf1-f3c5-db5055350e88"
      },
      "source": [
        "df1"
      ],
      "execution_count": null,
      "outputs": [
        {
          "output_type": "execute_result",
          "data": {
            "text/html": [
              "<div>\n",
              "<style scoped>\n",
              "    .dataframe tbody tr th:only-of-type {\n",
              "        vertical-align: middle;\n",
              "    }\n",
              "\n",
              "    .dataframe tbody tr th {\n",
              "        vertical-align: top;\n",
              "    }\n",
              "\n",
              "    .dataframe thead th {\n",
              "        text-align: right;\n",
              "    }\n",
              "</style>\n",
              "<table border=\"1\" class=\"dataframe\">\n",
              "  <thead>\n",
              "    <tr style=\"text-align: right;\">\n",
              "      <th></th>\n",
              "      <th>Close</th>\n",
              "    </tr>\n",
              "    <tr>\n",
              "      <th>Date</th>\n",
              "      <th></th>\n",
              "    </tr>\n",
              "  </thead>\n",
              "  <tbody>\n",
              "    <tr>\n",
              "      <th>2014-09-17</th>\n",
              "      <td>457.334015</td>\n",
              "    </tr>\n",
              "    <tr>\n",
              "      <th>2014-09-18</th>\n",
              "      <td>424.440002</td>\n",
              "    </tr>\n",
              "    <tr>\n",
              "      <th>2014-09-19</th>\n",
              "      <td>394.795990</td>\n",
              "    </tr>\n",
              "    <tr>\n",
              "      <th>2014-09-20</th>\n",
              "      <td>408.903992</td>\n",
              "    </tr>\n",
              "    <tr>\n",
              "      <th>2014-09-21</th>\n",
              "      <td>398.821014</td>\n",
              "    </tr>\n",
              "    <tr>\n",
              "      <th>...</th>\n",
              "      <td>...</td>\n",
              "    </tr>\n",
              "    <tr>\n",
              "      <th>2021-06-09</th>\n",
              "      <td>37345.121094</td>\n",
              "    </tr>\n",
              "    <tr>\n",
              "      <th>2021-06-10</th>\n",
              "      <td>36702.597656</td>\n",
              "    </tr>\n",
              "    <tr>\n",
              "      <th>2021-06-11</th>\n",
              "      <td>37334.398438</td>\n",
              "    </tr>\n",
              "    <tr>\n",
              "      <th>2021-06-12</th>\n",
              "      <td>35552.515625</td>\n",
              "    </tr>\n",
              "    <tr>\n",
              "      <th>2021-06-13</th>\n",
              "      <td>35884.800781</td>\n",
              "    </tr>\n",
              "  </tbody>\n",
              "</table>\n",
              "<p>2458 rows × 1 columns</p>\n",
              "</div>"
            ],
            "text/plain": [
              "                   Close\n",
              "Date                    \n",
              "2014-09-17    457.334015\n",
              "2014-09-18    424.440002\n",
              "2014-09-19    394.795990\n",
              "2014-09-20    408.903992\n",
              "2014-09-21    398.821014\n",
              "...                  ...\n",
              "2021-06-09  37345.121094\n",
              "2021-06-10  36702.597656\n",
              "2021-06-11  37334.398438\n",
              "2021-06-12  35552.515625\n",
              "2021-06-13  35884.800781\n",
              "\n",
              "[2458 rows x 1 columns]"
            ]
          },
          "metadata": {
            "tags": []
          },
          "execution_count": 20
        }
      ]
    },
    {
      "cell_type": "code",
      "metadata": {
        "id": "n4V0J-rM0Ip0"
      },
      "source": [
        "from sklearn.preprocessing import MinMaxScaler\n",
        "scaler=MinMaxScaler(feature_range=(0,1))\n",
        "df1=scaler.fit_transform(np.array(df1).reshape(-1,1))"
      ],
      "execution_count": null,
      "outputs": []
    },
    {
      "cell_type": "code",
      "metadata": {
        "colab": {
          "base_uri": "https://localhost:8080/"
        },
        "id": "o2cbhXTy0Ip1",
        "outputId": "48734f53-9470-4610-fc0e-85f364f620ec"
      },
      "source": [
        "print(df1)"
      ],
      "execution_count": null,
      "outputs": [
        {
          "output_type": "stream",
          "text": [
            "[[0.00440947]\n",
            " [0.00389002]\n",
            " [0.0034219 ]\n",
            " ...\n",
            " [0.58675227]\n",
            " [0.55861374]\n",
            " [0.56386101]]\n"
          ],
          "name": "stdout"
        }
      ]
    },
    {
      "cell_type": "code",
      "metadata": {
        "id": "eW5hhDW_0Ip6"
      },
      "source": [
        "##splitting dataset into train and test split\n",
        "training_size=int(len(df1)*0.65)\n",
        "test_size=len(df1)-training_size\n",
        "train_data,test_data=df1[0:training_size,:],df1[training_size:len(df1),:1]"
      ],
      "execution_count": null,
      "outputs": []
    },
    {
      "cell_type": "code",
      "metadata": {
        "colab": {
          "base_uri": "https://localhost:8080/"
        },
        "id": "JxcgOMFB0Ip8",
        "outputId": "d9b1b697-7253-4fb2-a450-59fbb0743e41"
      },
      "source": [
        "training_size,test_size"
      ],
      "execution_count": null,
      "outputs": [
        {
          "output_type": "execute_result",
          "data": {
            "text/plain": [
              "(1597, 861)"
            ]
          },
          "metadata": {
            "tags": []
          },
          "execution_count": 24
        }
      ]
    },
    {
      "cell_type": "code",
      "metadata": {
        "colab": {
          "base_uri": "https://localhost:8080/"
        },
        "id": "R_wyXnDT0Ip-",
        "outputId": "6c5c4014-bade-4ac7-f77f-5a5d5e99dc18"
      },
      "source": [
        "train_data"
      ],
      "execution_count": null,
      "outputs": [
        {
          "output_type": "execute_result",
          "data": {
            "text/plain": [
              "array([[0.00440947],\n",
              "       [0.00389002],\n",
              "       [0.0034219 ],\n",
              "       ...,\n",
              "       [0.05199098],\n",
              "       [0.05163831],\n",
              "       [0.0522394 ]])"
            ]
          },
          "metadata": {
            "tags": []
          },
          "execution_count": 25
        }
      ]
    },
    {
      "cell_type": "code",
      "metadata": {
        "id": "5-cAyiyi0Ip_"
      },
      "source": [
        "import numpy\n",
        "# convert an array of values into a dataset matrix\n",
        "def create_dataset(dataset, time_step=1):\n",
        "\tdataX, dataY = [], []\n",
        "\tfor i in range(len(dataset)-time_step-1):\n",
        "\t\ta = dataset[i:(i+time_step), 0]   ###i=0, 0,1,2,3-----99   100 \n",
        "\t\tdataX.append(a)\n",
        "\t\tdataY.append(dataset[i + time_step, 0])\n",
        "\treturn numpy.array(dataX), numpy.array(dataY)"
      ],
      "execution_count": null,
      "outputs": []
    },
    {
      "cell_type": "code",
      "metadata": {
        "id": "Qtmyuq1Q0Ip_"
      },
      "source": [
        "# reshape into X=t,t+1,t+2,t+3 and Y=t+4\n",
        "time_step = 100\n",
        "X_train, y_train = create_dataset(train_data, time_step)\n",
        "X_test, ytest = create_dataset(test_data, time_step)"
      ],
      "execution_count": null,
      "outputs": []
    },
    {
      "cell_type": "code",
      "metadata": {
        "colab": {
          "base_uri": "https://localhost:8080/"
        },
        "id": "YzineAzQ0IqA",
        "outputId": "307c2858-9ef6-4abd-9f35-6f4a79bcae75"
      },
      "source": [
        "print(X_train.shape), print(y_train.shape)"
      ],
      "execution_count": null,
      "outputs": [
        {
          "output_type": "stream",
          "text": [
            "(1496, 100)\n",
            "(1496,)\n"
          ],
          "name": "stdout"
        },
        {
          "output_type": "execute_result",
          "data": {
            "text/plain": [
              "(None, None)"
            ]
          },
          "metadata": {
            "tags": []
          },
          "execution_count": 28
        }
      ]
    },
    {
      "cell_type": "code",
      "metadata": {
        "colab": {
          "base_uri": "https://localhost:8080/"
        },
        "id": "NsyMc60C0IqC",
        "outputId": "5011185e-f684-4726-d14d-aac4cfef53e3"
      },
      "source": [
        "print(X_test.shape), print(ytest.shape)"
      ],
      "execution_count": null,
      "outputs": [
        {
          "output_type": "stream",
          "text": [
            "(760, 100)\n",
            "(760,)\n"
          ],
          "name": "stdout"
        },
        {
          "output_type": "execute_result",
          "data": {
            "text/plain": [
              "(None, None)"
            ]
          },
          "metadata": {
            "tags": []
          },
          "execution_count": 29
        }
      ]
    },
    {
      "cell_type": "code",
      "metadata": {
        "id": "GjJppbxZ0IqD"
      },
      "source": [
        "# reshape input to be [samples, time steps, features] which is required for LSTM\n",
        "X_train =X_train.reshape(X_train.shape[0],X_train.shape[1] , 1)\n",
        "X_test = X_test.reshape(X_test.shape[0],X_test.shape[1] , 1)"
      ],
      "execution_count": null,
      "outputs": []
    },
    {
      "cell_type": "code",
      "metadata": {
        "id": "fYZZfdCr0IqJ"
      },
      "source": [
        "### Create the Stacked LSTM model\n",
        "from tensorflow.keras.models import Sequential\n",
        "from tensorflow.keras.layers import Dense\n",
        "from tensorflow.keras.layers import LSTM"
      ],
      "execution_count": null,
      "outputs": []
    },
    {
      "cell_type": "code",
      "metadata": {
        "id": "L1ei03Ha0IqL"
      },
      "source": [
        "model=Sequential()\n",
        "model.add(LSTM(50,return_sequences=True,input_shape=(100,1)))\n",
        "model.add(LSTM(50,return_sequences=True))\n",
        "model.add(LSTM(50))\n",
        "model.add(Dense(1))\n",
        "model.compile(loss='mean_squared_error',optimizer='adam')\n"
      ],
      "execution_count": null,
      "outputs": []
    },
    {
      "cell_type": "code",
      "metadata": {
        "colab": {
          "base_uri": "https://localhost:8080/"
        },
        "id": "9Z6aIq2C0IqN",
        "outputId": "e91b04ee-4afc-4996-ee12-d46f21f9faed"
      },
      "source": [
        "model.summary()"
      ],
      "execution_count": null,
      "outputs": [
        {
          "output_type": "stream",
          "text": [
            "Model: \"sequential\"\n",
            "_________________________________________________________________\n",
            "Layer (type)                 Output Shape              Param #   \n",
            "=================================================================\n",
            "lstm (LSTM)                  (None, 100, 50)           10400     \n",
            "_________________________________________________________________\n",
            "lstm_1 (LSTM)                (None, 100, 50)           20200     \n",
            "_________________________________________________________________\n",
            "lstm_2 (LSTM)                (None, 50)                20200     \n",
            "_________________________________________________________________\n",
            "dense (Dense)                (None, 1)                 51        \n",
            "=================================================================\n",
            "Total params: 50,851\n",
            "Trainable params: 50,851\n",
            "Non-trainable params: 0\n",
            "_________________________________________________________________\n"
          ],
          "name": "stdout"
        }
      ]
    },
    {
      "cell_type": "code",
      "metadata": {
        "id": "MaE3GHBM0IqQ"
      },
      "source": [
        ""
      ],
      "execution_count": null,
      "outputs": []
    },
    {
      "cell_type": "code",
      "metadata": {
        "colab": {
          "base_uri": "https://localhost:8080/"
        },
        "id": "9sFU3vbM0IqQ",
        "outputId": "cd0d6006-43ae-48cc-9d85-3af3ee4232e6"
      },
      "source": [
        "model.fit(X_train,y_train,validation_data=(X_test,ytest),epochs=100,batch_size=64,verbose=1)"
      ],
      "execution_count": null,
      "outputs": [
        {
          "output_type": "stream",
          "text": [
            "Epoch 1/100\n",
            "24/24 [==============================] - 11s 251ms/step - loss: 0.0010 - val_loss: 0.0124\n",
            "Epoch 2/100\n",
            "24/24 [==============================] - 5s 197ms/step - loss: 2.0883e-04 - val_loss: 0.0059\n",
            "Epoch 3/100\n",
            "24/24 [==============================] - 5s 194ms/step - loss: 1.6373e-04 - val_loss: 0.0070\n",
            "Epoch 4/100\n",
            "24/24 [==============================] - 5s 192ms/step - loss: 1.6555e-04 - val_loss: 0.0053\n",
            "Epoch 5/100\n",
            "24/24 [==============================] - 5s 189ms/step - loss: 1.5963e-04 - val_loss: 0.0074\n",
            "Epoch 6/100\n",
            "24/24 [==============================] - 5s 190ms/step - loss: 1.2216e-04 - val_loss: 0.0105\n",
            "Epoch 7/100\n",
            "24/24 [==============================] - 5s 190ms/step - loss: 1.0651e-04 - val_loss: 0.0072\n",
            "Epoch 8/100\n",
            "24/24 [==============================] - 5s 189ms/step - loss: 1.2515e-04 - val_loss: 0.0119\n",
            "Epoch 9/100\n",
            "24/24 [==============================] - 5s 192ms/step - loss: 9.9019e-05 - val_loss: 0.0110\n",
            "Epoch 10/100\n",
            "24/24 [==============================] - 5s 191ms/step - loss: 1.0369e-04 - val_loss: 0.0094\n",
            "Epoch 11/100\n",
            "24/24 [==============================] - 5s 191ms/step - loss: 9.7467e-05 - val_loss: 0.0090\n",
            "Epoch 12/100\n",
            "24/24 [==============================] - 5s 190ms/step - loss: 8.9769e-05 - val_loss: 0.0108\n",
            "Epoch 13/100\n",
            "24/24 [==============================] - 5s 190ms/step - loss: 1.0382e-04 - val_loss: 0.0143\n",
            "Epoch 14/100\n",
            "24/24 [==============================] - 5s 191ms/step - loss: 9.5484e-05 - val_loss: 0.0069\n",
            "Epoch 15/100\n",
            "24/24 [==============================] - 5s 193ms/step - loss: 8.2013e-05 - val_loss: 0.0088\n",
            "Epoch 16/100\n",
            "24/24 [==============================] - 5s 196ms/step - loss: 8.2151e-05 - val_loss: 0.0078\n",
            "Epoch 17/100\n",
            "24/24 [==============================] - 5s 197ms/step - loss: 8.4906e-05 - val_loss: 0.0086\n",
            "Epoch 18/100\n",
            "24/24 [==============================] - 5s 193ms/step - loss: 7.4175e-05 - val_loss: 0.0068\n",
            "Epoch 19/100\n",
            "24/24 [==============================] - 5s 193ms/step - loss: 6.9684e-05 - val_loss: 0.0070\n",
            "Epoch 20/100\n",
            "24/24 [==============================] - 5s 194ms/step - loss: 7.2461e-05 - val_loss: 0.0076\n",
            "Epoch 21/100\n",
            "24/24 [==============================] - 5s 192ms/step - loss: 7.5455e-05 - val_loss: 0.0078\n",
            "Epoch 22/100\n",
            "24/24 [==============================] - 5s 193ms/step - loss: 8.6115e-05 - val_loss: 0.0045\n",
            "Epoch 23/100\n",
            "24/24 [==============================] - 5s 192ms/step - loss: 7.5982e-05 - val_loss: 0.0060\n",
            "Epoch 24/100\n",
            "24/24 [==============================] - 5s 193ms/step - loss: 6.4100e-05 - val_loss: 0.0057\n",
            "Epoch 25/100\n",
            "24/24 [==============================] - 5s 195ms/step - loss: 5.8994e-05 - val_loss: 0.0061\n",
            "Epoch 26/100\n",
            "24/24 [==============================] - 5s 191ms/step - loss: 7.6803e-05 - val_loss: 0.0056\n",
            "Epoch 27/100\n",
            "24/24 [==============================] - 5s 194ms/step - loss: 6.0350e-05 - val_loss: 0.0041\n",
            "Epoch 28/100\n",
            "24/24 [==============================] - 5s 191ms/step - loss: 5.9406e-05 - val_loss: 0.0048\n",
            "Epoch 29/100\n",
            "24/24 [==============================] - 5s 190ms/step - loss: 6.3410e-05 - val_loss: 0.0040\n",
            "Epoch 30/100\n",
            "24/24 [==============================] - 5s 192ms/step - loss: 5.7866e-05 - val_loss: 0.0045\n",
            "Epoch 31/100\n",
            "24/24 [==============================] - 5s 191ms/step - loss: 6.5548e-05 - val_loss: 0.0021\n",
            "Epoch 32/100\n",
            "24/24 [==============================] - 5s 192ms/step - loss: 6.1218e-05 - val_loss: 0.0041\n",
            "Epoch 33/100\n",
            "24/24 [==============================] - 5s 192ms/step - loss: 5.1539e-05 - val_loss: 0.0027\n",
            "Epoch 34/100\n",
            "24/24 [==============================] - 5s 192ms/step - loss: 5.3082e-05 - val_loss: 0.0034\n",
            "Epoch 35/100\n",
            "24/24 [==============================] - 5s 191ms/step - loss: 5.5404e-05 - val_loss: 0.0050\n",
            "Epoch 36/100\n",
            "24/24 [==============================] - 5s 192ms/step - loss: 6.3884e-05 - val_loss: 0.0028\n",
            "Epoch 37/100\n",
            "24/24 [==============================] - 5s 192ms/step - loss: 5.2355e-05 - val_loss: 0.0025\n",
            "Epoch 38/100\n",
            "24/24 [==============================] - 5s 193ms/step - loss: 4.8329e-05 - val_loss: 0.0037\n",
            "Epoch 39/100\n",
            "24/24 [==============================] - 5s 191ms/step - loss: 5.3501e-05 - val_loss: 0.0017\n",
            "Epoch 40/100\n",
            "24/24 [==============================] - 5s 191ms/step - loss: 5.1746e-05 - val_loss: 0.0033\n",
            "Epoch 41/100\n",
            "24/24 [==============================] - 5s 191ms/step - loss: 4.7274e-05 - val_loss: 0.0023\n",
            "Epoch 42/100\n",
            "24/24 [==============================] - 5s 189ms/step - loss: 4.7821e-05 - val_loss: 0.0040\n",
            "Epoch 43/100\n",
            "24/24 [==============================] - 5s 190ms/step - loss: 4.6880e-05 - val_loss: 0.0030\n",
            "Epoch 44/100\n",
            "24/24 [==============================] - 5s 190ms/step - loss: 4.6951e-05 - val_loss: 0.0036\n",
            "Epoch 45/100\n",
            "24/24 [==============================] - 5s 192ms/step - loss: 6.1443e-05 - val_loss: 0.0032\n",
            "Epoch 46/100\n",
            "24/24 [==============================] - 5s 190ms/step - loss: 5.5046e-05 - val_loss: 0.0027\n",
            "Epoch 47/100\n",
            "24/24 [==============================] - 5s 192ms/step - loss: 4.4149e-05 - val_loss: 0.0041\n",
            "Epoch 48/100\n",
            "24/24 [==============================] - 5s 193ms/step - loss: 4.4987e-05 - val_loss: 0.0022\n",
            "Epoch 49/100\n",
            "24/24 [==============================] - 5s 194ms/step - loss: 5.4077e-05 - val_loss: 0.0029\n",
            "Epoch 50/100\n",
            "24/24 [==============================] - 5s 190ms/step - loss: 5.4595e-05 - val_loss: 0.0034\n",
            "Epoch 51/100\n",
            "24/24 [==============================] - 5s 192ms/step - loss: 5.0689e-05 - val_loss: 0.0039\n",
            "Epoch 52/100\n",
            "24/24 [==============================] - 5s 190ms/step - loss: 5.3428e-05 - val_loss: 0.0013\n",
            "Epoch 53/100\n",
            "24/24 [==============================] - 5s 192ms/step - loss: 5.2605e-05 - val_loss: 0.0026\n",
            "Epoch 54/100\n",
            "24/24 [==============================] - 5s 190ms/step - loss: 4.8106e-05 - val_loss: 0.0026\n",
            "Epoch 55/100\n",
            "24/24 [==============================] - 5s 191ms/step - loss: 4.5002e-05 - val_loss: 0.0024\n",
            "Epoch 56/100\n",
            "24/24 [==============================] - 5s 191ms/step - loss: 4.0213e-05 - val_loss: 0.0028\n",
            "Epoch 57/100\n",
            "24/24 [==============================] - 5s 190ms/step - loss: 3.9879e-05 - val_loss: 0.0021\n",
            "Epoch 58/100\n",
            "24/24 [==============================] - 5s 194ms/step - loss: 4.3604e-05 - val_loss: 0.0025\n",
            "Epoch 59/100\n",
            "24/24 [==============================] - 5s 194ms/step - loss: 3.6959e-05 - val_loss: 0.0011\n",
            "Epoch 60/100\n",
            "24/24 [==============================] - 5s 192ms/step - loss: 4.3872e-05 - val_loss: 0.0016\n",
            "Epoch 61/100\n",
            "24/24 [==============================] - 5s 194ms/step - loss: 3.7772e-05 - val_loss: 0.0011\n",
            "Epoch 62/100\n",
            "24/24 [==============================] - 5s 195ms/step - loss: 3.5012e-05 - val_loss: 0.0016\n",
            "Epoch 63/100\n",
            "24/24 [==============================] - 5s 190ms/step - loss: 3.4455e-05 - val_loss: 0.0022\n",
            "Epoch 64/100\n",
            "24/24 [==============================] - 5s 191ms/step - loss: 3.7860e-05 - val_loss: 0.0015\n",
            "Epoch 65/100\n",
            "24/24 [==============================] - 5s 189ms/step - loss: 3.4595e-05 - val_loss: 0.0021\n",
            "Epoch 66/100\n",
            "24/24 [==============================] - 5s 192ms/step - loss: 3.7683e-05 - val_loss: 0.0020\n",
            "Epoch 67/100\n",
            "24/24 [==============================] - 5s 191ms/step - loss: 3.3851e-05 - val_loss: 0.0029\n",
            "Epoch 68/100\n",
            "24/24 [==============================] - 5s 192ms/step - loss: 3.7635e-05 - val_loss: 0.0023\n",
            "Epoch 69/100\n",
            "24/24 [==============================] - 5s 193ms/step - loss: 3.1016e-05 - val_loss: 0.0015\n",
            "Epoch 70/100\n",
            "24/24 [==============================] - 5s 192ms/step - loss: 3.1846e-05 - val_loss: 0.0019\n",
            "Epoch 71/100\n",
            "24/24 [==============================] - 5s 191ms/step - loss: 3.2685e-05 - val_loss: 0.0017\n",
            "Epoch 72/100\n",
            "24/24 [==============================] - 5s 191ms/step - loss: 3.3059e-05 - val_loss: 0.0016\n",
            "Epoch 73/100\n",
            "24/24 [==============================] - 5s 191ms/step - loss: 3.3785e-05 - val_loss: 0.0021\n",
            "Epoch 74/100\n",
            "24/24 [==============================] - 5s 191ms/step - loss: 2.7128e-05 - val_loss: 0.0011\n",
            "Epoch 75/100\n",
            "24/24 [==============================] - 5s 190ms/step - loss: 3.3153e-05 - val_loss: 0.0020\n",
            "Epoch 76/100\n",
            "24/24 [==============================] - 5s 193ms/step - loss: 2.9230e-05 - val_loss: 0.0019\n",
            "Epoch 77/100\n",
            "24/24 [==============================] - 5s 192ms/step - loss: 2.7329e-05 - val_loss: 0.0018\n",
            "Epoch 78/100\n",
            "24/24 [==============================] - 5s 190ms/step - loss: 2.7243e-05 - val_loss: 0.0023\n",
            "Epoch 79/100\n",
            "24/24 [==============================] - 5s 190ms/step - loss: 2.6111e-05 - val_loss: 0.0012\n",
            "Epoch 80/100\n",
            "24/24 [==============================] - 5s 191ms/step - loss: 2.7179e-05 - val_loss: 0.0017\n",
            "Epoch 81/100\n",
            "24/24 [==============================] - 5s 190ms/step - loss: 2.5839e-05 - val_loss: 0.0013\n",
            "Epoch 82/100\n",
            "24/24 [==============================] - 5s 191ms/step - loss: 2.3380e-05 - val_loss: 0.0020\n",
            "Epoch 83/100\n",
            "24/24 [==============================] - 5s 189ms/step - loss: 3.7539e-05 - val_loss: 0.0024\n",
            "Epoch 84/100\n",
            "24/24 [==============================] - 5s 191ms/step - loss: 2.6347e-05 - val_loss: 0.0011\n",
            "Epoch 85/100\n",
            "24/24 [==============================] - 5s 195ms/step - loss: 2.9762e-05 - val_loss: 0.0017\n",
            "Epoch 86/100\n",
            "24/24 [==============================] - 5s 194ms/step - loss: 2.7289e-05 - val_loss: 0.0017\n",
            "Epoch 87/100\n",
            "24/24 [==============================] - 5s 195ms/step - loss: 2.5369e-05 - val_loss: 0.0022\n",
            "Epoch 88/100\n",
            "24/24 [==============================] - 5s 195ms/step - loss: 2.3306e-05 - val_loss: 0.0015\n",
            "Epoch 89/100\n",
            "24/24 [==============================] - 5s 195ms/step - loss: 2.2956e-05 - val_loss: 0.0019\n",
            "Epoch 90/100\n",
            "24/24 [==============================] - 5s 188ms/step - loss: 2.4915e-05 - val_loss: 0.0023\n",
            "Epoch 91/100\n",
            "24/24 [==============================] - 5s 191ms/step - loss: 2.5181e-05 - val_loss: 0.0019\n",
            "Epoch 92/100\n",
            "24/24 [==============================] - 5s 191ms/step - loss: 2.2836e-05 - val_loss: 0.0014\n",
            "Epoch 93/100\n",
            "24/24 [==============================] - 5s 191ms/step - loss: 2.0914e-05 - val_loss: 0.0022\n",
            "Epoch 94/100\n",
            "24/24 [==============================] - 5s 192ms/step - loss: 2.6201e-05 - val_loss: 0.0024\n",
            "Epoch 95/100\n",
            "24/24 [==============================] - 5s 192ms/step - loss: 2.5361e-05 - val_loss: 0.0020\n",
            "Epoch 96/100\n",
            "24/24 [==============================] - 5s 191ms/step - loss: 3.2225e-05 - val_loss: 0.0021\n",
            "Epoch 97/100\n",
            "24/24 [==============================] - 5s 192ms/step - loss: 2.0951e-05 - val_loss: 0.0025\n",
            "Epoch 98/100\n",
            "24/24 [==============================] - 5s 194ms/step - loss: 2.1768e-05 - val_loss: 0.0023\n",
            "Epoch 99/100\n",
            "24/24 [==============================] - 5s 194ms/step - loss: 2.9429e-05 - val_loss: 0.0017\n",
            "Epoch 100/100\n",
            "24/24 [==============================] - 5s 192ms/step - loss: 3.5873e-05 - val_loss: 0.0017\n"
          ],
          "name": "stdout"
        },
        {
          "output_type": "execute_result",
          "data": {
            "text/plain": [
              "<tensorflow.python.keras.callbacks.History at 0x7f9b73943210>"
            ]
          },
          "metadata": {
            "tags": []
          },
          "execution_count": 34
        }
      ]
    },
    {
      "cell_type": "code",
      "metadata": {
        "id": "bwH8Xsnl0IqR"
      },
      "source": [
        "import tensorflow as tf"
      ],
      "execution_count": null,
      "outputs": []
    },
    {
      "cell_type": "code",
      "metadata": {
        "colab": {
          "base_uri": "https://localhost:8080/",
          "height": 36
        },
        "id": "xP2qeCC60IqS",
        "outputId": "4bf7d879-be92-4be6-f09d-38c7ed720d47"
      },
      "source": [
        "tf.__version__"
      ],
      "execution_count": null,
      "outputs": [
        {
          "output_type": "execute_result",
          "data": {
            "application/vnd.google.colaboratory.intrinsic+json": {
              "type": "string"
            },
            "text/plain": [
              "'2.5.0'"
            ]
          },
          "metadata": {
            "tags": []
          },
          "execution_count": 36
        }
      ]
    },
    {
      "cell_type": "code",
      "metadata": {
        "id": "DVYpqR2j0IqT"
      },
      "source": [
        "### Lets Do the prediction and check performance metrics\n",
        "train_predict=model.predict(X_train)\n",
        "test_predict=model.predict(X_test)"
      ],
      "execution_count": null,
      "outputs": []
    },
    {
      "cell_type": "code",
      "metadata": {
        "id": "_NwhJLVW0Iqb"
      },
      "source": [
        "##Transformback to original form\n",
        "train_predict=scaler.inverse_transform(train_predict)\n",
        "test_predict=scaler.inverse_transform(test_predict)"
      ],
      "execution_count": null,
      "outputs": []
    },
    {
      "cell_type": "code",
      "metadata": {
        "colab": {
          "base_uri": "https://localhost:8080/"
        },
        "id": "S7BpL0C00Iqc",
        "outputId": "dfb6b8fe-90ef-4c5a-b0ec-f3732ebcb6e2"
      },
      "source": [
        "### Calculate RMSE performance metrics\n",
        "import math\n",
        "from sklearn.metrics import mean_squared_error\n",
        "math.sqrt(mean_squared_error(y_train,train_predict))"
      ],
      "execution_count": null,
      "outputs": [
        {
          "output_type": "execute_result",
          "data": {
            "text/plain": [
              "4939.246226483102"
            ]
          },
          "metadata": {
            "tags": []
          },
          "execution_count": 39
        }
      ]
    },
    {
      "cell_type": "code",
      "metadata": {
        "colab": {
          "base_uri": "https://localhost:8080/"
        },
        "id": "SYjSm3K90Iqd",
        "outputId": "c5932911-e78f-4ec3-e596-7c8c01c3b243"
      },
      "source": [
        "### Test Data RMSE\n",
        "math.sqrt(mean_squared_error(ytest,test_predict))"
      ],
      "execution_count": null,
      "outputs": [
        {
          "output_type": "execute_result",
          "data": {
            "text/plain": [
              "22689.112058321814"
            ]
          },
          "metadata": {
            "tags": []
          },
          "execution_count": 40
        }
      ]
    },
    {
      "cell_type": "code",
      "metadata": {
        "colab": {
          "base_uri": "https://localhost:8080/",
          "height": 700
        },
        "id": "FU64EHVu0Iqg",
        "outputId": "f1c4fd28-2c2a-46b4-d68a-df90a84ad742"
      },
      "source": [
        "### Plotting \n",
        "# shift train predictions for plotting\n",
        "look_back=100\n",
        "trainPredictPlot = numpy.empty_like(df1)\n",
        "trainPredictPlot[:, :] = np.nan\n",
        "trainPredictPlot[look_back:len(train_predict)+look_back, :] = train_predict\n",
        "# shift test predictions for plotting\n",
        "testPredictPlot = numpy.empty_like(df1)\n",
        "testPredictPlot[:, :] = numpy.nan\n",
        "testPredictPlot[len(train_predict)+(look_back*2)+1:len(df1)-1, :] = test_predict\n",
        "# plot baseline and predictions\n",
        "plt.plot(scaler.inverse_transform(df1))\n",
        "plt.plot(trainPredictPlot)\n",
        "plt.plot(testPredictPlot)\n",
        "plt.show()"
      ],
      "execution_count": null,
      "outputs": [
        {
          "output_type": "display_data",
          "data": {
            "image/png": "[encoded data removed]",
            "text/plain": [
              "<Figure size 1296x864 with 1 Axes>"
            ]
          },
          "metadata": {
            "tags": [],
            "needs_background": "light"
          }
        }
      ]
    },
    {
      "cell_type": "code",
      "metadata": {
        "colab": {
          "base_uri": "https://localhost:8080/"
        },
        "id": "RsHJHMdd0Iqh",
        "outputId": "678493a2-3fc2-4141-9ce5-8e847065954d"
      },
      "source": [
        "len(test_data)"
      ],
      "execution_count": null,
      "outputs": [
        {
          "output_type": "execute_result",
          "data": {
            "text/plain": [
              "861"
            ]
          },
          "metadata": {
            "tags": []
          },
          "execution_count": 42
        }
      ]
    },
    {
      "cell_type": "code",
      "metadata": {
        "colab": {
          "base_uri": "https://localhost:8080/"
        },
        "id": "2vLDEJoz0Iqj",
        "outputId": "eebad78f-d932-4efb-c20f-61dbb93340a6"
      },
      "source": [
        "x_input=test_data[761:].reshape(1,-1)\n",
        "x_input.shape\n"
      ],
      "execution_count": null,
      "outputs": [
        {
          "output_type": "execute_result",
          "data": {
            "text/plain": [
              "(1, 100)"
            ]
          },
          "metadata": {
            "tags": []
          },
          "execution_count": 43
        }
      ]
    },
    {
      "cell_type": "code",
      "metadata": {
        "id": "pkE129Hr0Iqq"
      },
      "source": [
        ""
      ],
      "execution_count": null,
      "outputs": []
    },
    {
      "cell_type": "code",
      "metadata": {
        "id": "J8m9GOGn0Iqr"
      },
      "source": [
        ""
      ],
      "execution_count": null,
      "outputs": []
    },
    {
      "cell_type": "code",
      "metadata": {
        "id": "DJKK9cSz0Iqu"
      },
      "source": [
        "temp_input=list(x_input)\n",
        "temp_input=temp_input[0].tolist()"
      ],
      "execution_count": null,
      "outputs": []
    },
    {
      "cell_type": "code",
      "metadata": {
        "colab": {
          "base_uri": "https://localhost:8080/"
        },
        "id": "dTu9Jl_A0Iqv",
        "outputId": "a7dffa63-17b1-462d-cab3-c5e9ba8fdb0b"
      },
      "source": [
        "temp_input"
      ],
      "execution_count": null,
      "outputs": [
        {
          "output_type": "execute_result",
          "data": {
            "text/plain": [
              "[0.7695855879334168,\n",
              " 0.8058160777385399,\n",
              " 0.8222365470293195,\n",
              " 0.8629405239640369,\n",
              " 0.8816444635125807,\n",
              " 0.9100149375493051,\n",
              " 0.9025450819565063,\n",
              " 0.9643054329783731,\n",
              " 0.9336578422804199,\n",
              " 0.8800439740396769,\n",
              " 0.8942200199329539,\n",
              " 0.9268450596031138,\n",
              " 0.9108645306083625,\n",
              " 0.918566508373617,\n",
              " 0.9180452667160961,\n",
              " 0.905566494693433,\n",
              " 0.8582824741078978,\n",
              " 0.8615955354314232,\n",
              " 0.8305703683801344,\n",
              " 0.8136718372141138,\n",
              " 0.8678863362263693,\n",
              " 0.8810911454453663,\n",
              " 0.8807316429151849,\n",
              " 0.9091476407795129,\n",
              " 0.9275840507341315,\n",
              " 0.9276020628718825,\n",
              " 0.9303967817518402,\n",
              " 0.9349526805801857,\n",
              " 0.9068372140005254,\n",
              " 0.9250710490908483,\n",
              " 0.9297978164862155,\n",
              " 0.9161299966303723,\n",
              " 0.8822822288968539,\n",
              " 0.9182080544952911,\n",
              " 0.9169613308100657,\n",
              " 0.941410155334732,\n",
              " 0.94791198189422,\n",
              " 0.9429927560406912,\n",
              " 1.0,\n",
              " 0.9937819262954938,\n",
              " 0.9970083813128465,\n",
              " 0.9695119277548693,\n",
              " 0.9554738104232748,\n",
              " 0.8849232894372985,\n",
              " 0.8771551849197525,\n",
              " 0.8889792897576501,\n",
              " 0.8484435289176142,\n",
              " 0.814589530958367,\n",
              " 0.8040310255390914,\n",
              " 0.7875639220834497,\n",
              " 0.7710363669326161,\n",
              " 0.8502700337080513,\n",
              " 0.8662409397798946,\n",
              " 0.8629497767745253,\n",
              " 0.8429010337495777,\n",
              " 0.9091472706670933,\n",
              " 0.9103770308664231,\n",
              " 0.8914750811734246,\n",
              " 0.9004638164506182,\n",
              " 0.8394021143060393,\n",
              " 0.9039966011805447,\n",
              " 0.8877709960786537,\n",
              " 0.9029290119063773,\n",
              " 0.9257851810043536,\n",
              " 0.9167609766202872,\n",
              " 0.8792954216711543,\n",
              " 0.8926356920357034,\n",
              " 0.7733463619137808,\n",
              " 0.7822789017886075,\n",
              " 0.7848741300744321,\n",
              " 0.7355992747841834,\n",
              " 0.7307966343428103,\n",
              " 0.6847085086702167,\n",
              " 0.6747897425681187,\n",
              " 0.5815101861002787,\n",
              " 0.6412066052145725,\n",
              " 0.5862831558626853,\n",
              " 0.5899458500518708,\n",
              " 0.5462658608370238,\n",
              " 0.6084115605730365,\n",
              " 0.6036147802449727,\n",
              " 0.617700395337075,\n",
              " 0.6041634719069429,\n",
              " 0.5609049173671471,\n",
              " 0.5438258330257936,\n",
              " 0.5605973539465081,\n",
              " 0.5867279076201676,\n",
              " 0.5764961497819441,\n",
              " 0.59055456161121,\n",
              " 0.616351273882443,\n",
              " 0.5798041529024023,\n",
              " 0.55860491542131,\n",
              " 0.5635069310473301,\n",
              " 0.5271601642570677,\n",
              " 0.5257693434698342,\n",
              " 0.5869215997863944,\n",
              " 0.5767752145462783,\n",
              " 0.5867522733544541,\n",
              " 0.5586137364339757,\n",
              " 0.5638610052620248]"
            ]
          },
          "metadata": {
            "tags": []
          },
          "execution_count": 45
        }
      ]
    },
    {
      "cell_type": "code",
      "metadata": {
        "colab": {
          "base_uri": "https://localhost:8080/"
        },
        "id": "JS2WFnDS0Iqx",
        "outputId": "de9c79bf-82c6-4aa7-cc94-4d3b879a5085"
      },
      "source": [
        "# demonstrate prediction for next 10 days\n",
        "from numpy import array\n",
        "\n",
        "lst_output=[]\n",
        "n_steps=100\n",
        "i=0\n",
        "while(i<30):\n",
        "    \n",
        "    if(len(temp_input)>100):\n",
        "        #print(temp_input)\n",
        "        x_input=np.array(temp_input[1:])\n",
        "        print(\"{} day input {}\".format(i,x_input))\n",
        "        x_input=x_input.reshape(1,-1)\n",
        "        x_input = x_input.reshape((1, n_steps, 1))\n",
        "        #print(x_input)\n",
        "        yhat = model.predict(x_input, verbose=0)\n",
        "        print(\"{} day output {}\".format(i,yhat))\n",
        "        temp_input.extend(yhat[0].tolist())\n",
        "        temp_input=temp_input[1:]\n",
        "        #print(temp_input)\n",
        "        lst_output.extend(yhat.tolist())\n",
        "        i=i+1\n",
        "    else:\n",
        "        x_input = x_input.reshape((1, n_steps,1))\n",
        "        yhat = model.predict(x_input, verbose=0)\n",
        "        print(yhat[0])\n",
        "        temp_input.extend(yhat[0].tolist())\n",
        "        print(len(temp_input))\n",
        "        lst_output.extend(yhat.tolist())\n",
        "        i=i+1\n",
        "    \n",
        "\n",
        "print(lst_output)"
      ],
      "execution_count": null,
      "outputs": [
        {
          "output_type": "stream",
          "text": [
            "[0.55163676]\n",
            "101\n",
            "1 day input [0.80581608 0.82223655 0.86294052 0.88164446 0.91001494 0.90254508\n",
            " 0.96430543 0.93365784 0.88004397 0.89422002 0.92684506 0.91086453\n",
            " 0.91856651 0.91804527 0.90556649 0.85828247 0.86159554 0.83057037\n",
            " 0.81367184 0.86788634 0.88109115 0.88073164 0.90914764 0.92758405\n",
            " 0.92760206 0.93039678 0.93495268 0.90683721 0.92507105 0.92979782\n",
            " 0.91613    0.88228223 0.91820805 0.91696133 0.94141016 0.94791198\n",
            " 0.94299276 1.         0.99378193 0.99700838 0.96951193 0.95547381\n",
            " 0.88492329 0.87715518 0.88897929 0.84844353 0.81458953 0.80403103\n",
            " 0.78756392 0.77103637 0.85027003 0.86624094 0.86294978 0.84290103\n",
            " 0.90914727 0.91037703 0.89147508 0.90046382 0.83940211 0.9039966\n",
            " 0.887771   0.90292901 0.92578518 0.91676098 0.87929542 0.89263569\n",
            " 0.77334636 0.7822789  0.78487413 0.73559927 0.73079663 0.68470851\n",
            " 0.67478974 0.58151019 0.64120661 0.58628316 0.58994585 0.54626586\n",
            " 0.60841156 0.60361478 0.6177004  0.60416347 0.56090492 0.54382583\n",
            " 0.56059735 0.58672791 0.57649615 0.59055456 0.61635127 0.57980415\n",
            " 0.55860492 0.56350693 0.52716016 0.52576934 0.5869216  0.57677521\n",
            " 0.58675227 0.55861374 0.56386101 0.55163676]\n",
            "1 day output [[0.5132875]]\n",
            "2 day input [0.82223655 0.86294052 0.88164446 0.91001494 0.90254508 0.96430543\n",
            " 0.93365784 0.88004397 0.89422002 0.92684506 0.91086453 0.91856651\n",
            " 0.91804527 0.90556649 0.85828247 0.86159554 0.83057037 0.81367184\n",
            " 0.86788634 0.88109115 0.88073164 0.90914764 0.92758405 0.92760206\n",
            " 0.93039678 0.93495268 0.90683721 0.92507105 0.92979782 0.91613\n",
            " 0.88228223 0.91820805 0.91696133 0.94141016 0.94791198 0.94299276\n",
            " 1.         0.99378193 0.99700838 0.96951193 0.95547381 0.88492329\n",
            " 0.87715518 0.88897929 0.84844353 0.81458953 0.80403103 0.78756392\n",
            " 0.77103637 0.85027003 0.86624094 0.86294978 0.84290103 0.90914727\n",
            " 0.91037703 0.89147508 0.90046382 0.83940211 0.9039966  0.887771\n",
            " 0.90292901 0.92578518 0.91676098 0.87929542 0.89263569 0.77334636\n",
            " 0.7822789  0.78487413 0.73559927 0.73079663 0.68470851 0.67478974\n",
            " 0.58151019 0.64120661 0.58628316 0.58994585 0.54626586 0.60841156\n",
            " 0.60361478 0.6177004  0.60416347 0.56090492 0.54382583 0.56059735\n",
            " 0.58672791 0.57649615 0.59055456 0.61635127 0.57980415 0.55860492\n",
            " 0.56350693 0.52716016 0.52576934 0.5869216  0.57677521 0.58675227\n",
            " 0.55861374 0.56386101 0.55163676 0.51328748]\n",
            "2 day output [[0.47179544]]\n",
            "3 day input [0.86294052 0.88164446 0.91001494 0.90254508 0.96430543 0.93365784\n",
            " 0.88004397 0.89422002 0.92684506 0.91086453 0.91856651 0.91804527\n",
            " 0.90556649 0.85828247 0.86159554 0.83057037 0.81367184 0.86788634\n",
            " 0.88109115 0.88073164 0.90914764 0.92758405 0.92760206 0.93039678\n",
            " 0.93495268 0.90683721 0.92507105 0.92979782 0.91613    0.88228223\n",
            " 0.91820805 0.91696133 0.94141016 0.94791198 0.94299276 1.\n",
            " 0.99378193 0.99700838 0.96951193 0.95547381 0.88492329 0.87715518\n",
            " 0.88897929 0.84844353 0.81458953 0.80403103 0.78756392 0.77103637\n",
            " 0.85027003 0.86624094 0.86294978 0.84290103 0.90914727 0.91037703\n",
            " 0.89147508 0.90046382 0.83940211 0.9039966  0.887771   0.90292901\n",
            " 0.92578518 0.91676098 0.87929542 0.89263569 0.77334636 0.7822789\n",
            " 0.78487413 0.73559927 0.73079663 0.68470851 0.67478974 0.58151019\n",
            " 0.64120661 0.58628316 0.58994585 0.54626586 0.60841156 0.60361478\n",
            " 0.6177004  0.60416347 0.56090492 0.54382583 0.56059735 0.58672791\n",
            " 0.57649615 0.59055456 0.61635127 0.57980415 0.55860492 0.56350693\n",
            " 0.52716016 0.52576934 0.5869216  0.57677521 0.58675227 0.55861374\n",
            " 0.56386101 0.55163676 0.51328748 0.47179544]\n",
            "3 day output [[0.44055343]]\n",
            "4 day input [0.88164446 0.91001494 0.90254508 0.96430543 0.93365784 0.88004397\n",
            " 0.89422002 0.92684506 0.91086453 0.91856651 0.91804527 0.90556649\n",
            " 0.85828247 0.86159554 0.83057037 0.81367184 0.86788634 0.88109115\n",
            " 0.88073164 0.90914764 0.92758405 0.92760206 0.93039678 0.93495268\n",
            " 0.90683721 0.92507105 0.92979782 0.91613    0.88228223 0.91820805\n",
            " 0.91696133 0.94141016 0.94791198 0.94299276 1.         0.99378193\n",
            " 0.99700838 0.96951193 0.95547381 0.88492329 0.87715518 0.88897929\n",
            " 0.84844353 0.81458953 0.80403103 0.78756392 0.77103637 0.85027003\n",
            " 0.86624094 0.86294978 0.84290103 0.90914727 0.91037703 0.89147508\n",
            " 0.90046382 0.83940211 0.9039966  0.887771   0.90292901 0.92578518\n",
            " 0.91676098 0.87929542 0.89263569 0.77334636 0.7822789  0.78487413\n",
            " 0.73559927 0.73079663 0.68470851 0.67478974 0.58151019 0.64120661\n",
            " 0.58628316 0.58994585 0.54626586 0.60841156 0.60361478 0.6177004\n",
            " 0.60416347 0.56090492 0.54382583 0.56059735 0.58672791 0.57649615\n",
            " 0.59055456 0.61635127 0.57980415 0.55860492 0.56350693 0.52716016\n",
            " 0.52576934 0.5869216  0.57677521 0.58675227 0.55861374 0.56386101\n",
            " 0.55163676 0.51328748 0.47179544 0.44055343]\n",
            "4 day output [[0.42293766]]\n",
            "5 day input [0.91001494 0.90254508 0.96430543 0.93365784 0.88004397 0.89422002\n",
            " 0.92684506 0.91086453 0.91856651 0.91804527 0.90556649 0.85828247\n",
            " 0.86159554 0.83057037 0.81367184 0.86788634 0.88109115 0.88073164\n",
            " 0.90914764 0.92758405 0.92760206 0.93039678 0.93495268 0.90683721\n",
            " 0.92507105 0.92979782 0.91613    0.88228223 0.91820805 0.91696133\n",
            " 0.94141016 0.94791198 0.94299276 1.         0.99378193 0.99700838\n",
            " 0.96951193 0.95547381 0.88492329 0.87715518 0.88897929 0.84844353\n",
            " 0.81458953 0.80403103 0.78756392 0.77103637 0.85027003 0.86624094\n",
            " 0.86294978 0.84290103 0.90914727 0.91037703 0.89147508 0.90046382\n",
            " 0.83940211 0.9039966  0.887771   0.90292901 0.92578518 0.91676098\n",
            " 0.87929542 0.89263569 0.77334636 0.7822789  0.78487413 0.73559927\n",
            " 0.73079663 0.68470851 0.67478974 0.58151019 0.64120661 0.58628316\n",
            " 0.58994585 0.54626586 0.60841156 0.60361478 0.6177004  0.60416347\n",
            " 0.56090492 0.54382583 0.56059735 0.58672791 0.57649615 0.59055456\n",
            " 0.61635127 0.57980415 0.55860492 0.56350693 0.52716016 0.52576934\n",
            " 0.5869216  0.57677521 0.58675227 0.55861374 0.56386101 0.55163676\n",
            " 0.51328748 0.47179544 0.44055343 0.42293766]\n",
            "5 day output [[0.41424382]]\n",
            "6 day input [0.90254508 0.96430543 0.93365784 0.88004397 0.89422002 0.92684506\n",
            " 0.91086453 0.91856651 0.91804527 0.90556649 0.85828247 0.86159554\n",
            " 0.83057037 0.81367184 0.86788634 0.88109115 0.88073164 0.90914764\n",
            " 0.92758405 0.92760206 0.93039678 0.93495268 0.90683721 0.92507105\n",
            " 0.92979782 0.91613    0.88228223 0.91820805 0.91696133 0.94141016\n",
            " 0.94791198 0.94299276 1.         0.99378193 0.99700838 0.96951193\n",
            " 0.95547381 0.88492329 0.87715518 0.88897929 0.84844353 0.81458953\n",
            " 0.80403103 0.78756392 0.77103637 0.85027003 0.86624094 0.86294978\n",
            " 0.84290103 0.90914727 0.91037703 0.89147508 0.90046382 0.83940211\n",
            " 0.9039966  0.887771   0.90292901 0.92578518 0.91676098 0.87929542\n",
            " 0.89263569 0.77334636 0.7822789  0.78487413 0.73559927 0.73079663\n",
            " 0.68470851 0.67478974 0.58151019 0.64120661 0.58628316 0.58994585\n",
            " 0.54626586 0.60841156 0.60361478 0.6177004  0.60416347 0.56090492\n",
            " 0.54382583 0.56059735 0.58672791 0.57649615 0.59055456 0.61635127\n",
            " 0.57980415 0.55860492 0.56350693 0.52716016 0.52576934 0.5869216\n",
            " 0.57677521 0.58675227 0.55861374 0.56386101 0.55163676 0.51328748\n",
            " 0.47179544 0.44055343 0.42293766 0.41424382]\n",
            "6 day output [[0.40804556]]\n",
            "7 day input [0.96430543 0.93365784 0.88004397 0.89422002 0.92684506 0.91086453\n",
            " 0.91856651 0.91804527 0.90556649 0.85828247 0.86159554 0.83057037\n",
            " 0.81367184 0.86788634 0.88109115 0.88073164 0.90914764 0.92758405\n",
            " 0.92760206 0.93039678 0.93495268 0.90683721 0.92507105 0.92979782\n",
            " 0.91613    0.88228223 0.91820805 0.91696133 0.94141016 0.94791198\n",
            " 0.94299276 1.         0.99378193 0.99700838 0.96951193 0.95547381\n",
            " 0.88492329 0.87715518 0.88897929 0.84844353 0.81458953 0.80403103\n",
            " 0.78756392 0.77103637 0.85027003 0.86624094 0.86294978 0.84290103\n",
            " 0.90914727 0.91037703 0.89147508 0.90046382 0.83940211 0.9039966\n",
            " 0.887771   0.90292901 0.92578518 0.91676098 0.87929542 0.89263569\n",
            " 0.77334636 0.7822789  0.78487413 0.73559927 0.73079663 0.68470851\n",
            " 0.67478974 0.58151019 0.64120661 0.58628316 0.58994585 0.54626586\n",
            " 0.60841156 0.60361478 0.6177004  0.60416347 0.56090492 0.54382583\n",
            " 0.56059735 0.58672791 0.57649615 0.59055456 0.61635127 0.57980415\n",
            " 0.55860492 0.56350693 0.52716016 0.52576934 0.5869216  0.57677521\n",
            " 0.58675227 0.55861374 0.56386101 0.55163676 0.51328748 0.47179544\n",
            " 0.44055343 0.42293766 0.41424382 0.40804556]\n",
            "7 day output [[0.40015462]]\n",
            "8 day input [0.93365784 0.88004397 0.89422002 0.92684506 0.91086453 0.91856651\n",
            " 0.91804527 0.90556649 0.85828247 0.86159554 0.83057037 0.81367184\n",
            " 0.86788634 0.88109115 0.88073164 0.90914764 0.92758405 0.92760206\n",
            " 0.93039678 0.93495268 0.90683721 0.92507105 0.92979782 0.91613\n",
            " 0.88228223 0.91820805 0.91696133 0.94141016 0.94791198 0.94299276\n",
            " 1.         0.99378193 0.99700838 0.96951193 0.95547381 0.88492329\n",
            " 0.87715518 0.88897929 0.84844353 0.81458953 0.80403103 0.78756392\n",
            " 0.77103637 0.85027003 0.86624094 0.86294978 0.84290103 0.90914727\n",
            " 0.91037703 0.89147508 0.90046382 0.83940211 0.9039966  0.887771\n",
            " 0.90292901 0.92578518 0.91676098 0.87929542 0.89263569 0.77334636\n",
            " 0.7822789  0.78487413 0.73559927 0.73079663 0.68470851 0.67478974\n",
            " 0.58151019 0.64120661 0.58628316 0.58994585 0.54626586 0.60841156\n",
            " 0.60361478 0.6177004  0.60416347 0.56090492 0.54382583 0.56059735\n",
            " 0.58672791 0.57649615 0.59055456 0.61635127 0.57980415 0.55860492\n",
            " 0.56350693 0.52716016 0.52576934 0.5869216  0.57677521 0.58675227\n",
            " 0.55861374 0.56386101 0.55163676 0.51328748 0.47179544 0.44055343\n",
            " 0.42293766 0.41424382 0.40804556 0.40015462]\n",
            "8 day output [[0.38944235]]\n",
            "9 day input [0.88004397 0.89422002 0.92684506 0.91086453 0.91856651 0.91804527\n",
            " 0.90556649 0.85828247 0.86159554 0.83057037 0.81367184 0.86788634\n",
            " 0.88109115 0.88073164 0.90914764 0.92758405 0.92760206 0.93039678\n",
            " 0.93495268 0.90683721 0.92507105 0.92979782 0.91613    0.88228223\n",
            " 0.91820805 0.91696133 0.94141016 0.94791198 0.94299276 1.\n",
            " 0.99378193 0.99700838 0.96951193 0.95547381 0.88492329 0.87715518\n",
            " 0.88897929 0.84844353 0.81458953 0.80403103 0.78756392 0.77103637\n",
            " 0.85027003 0.86624094 0.86294978 0.84290103 0.90914727 0.91037703\n",
            " 0.89147508 0.90046382 0.83940211 0.9039966  0.887771   0.90292901\n",
            " 0.92578518 0.91676098 0.87929542 0.89263569 0.77334636 0.7822789\n",
            " 0.78487413 0.73559927 0.73079663 0.68470851 0.67478974 0.58151019\n",
            " 0.64120661 0.58628316 0.58994585 0.54626586 0.60841156 0.60361478\n",
            " 0.6177004  0.60416347 0.56090492 0.54382583 0.56059735 0.58672791\n",
            " 0.57649615 0.59055456 0.61635127 0.57980415 0.55860492 0.56350693\n",
            " 0.52716016 0.52576934 0.5869216  0.57677521 0.58675227 0.55861374\n",
            " 0.56386101 0.55163676 0.51328748 0.47179544 0.44055343 0.42293766\n",
            " 0.41424382 0.40804556 0.40015462 0.38944235]\n",
            "9 day output [[0.37692493]]\n",
            "10 day input [0.89422002 0.92684506 0.91086453 0.91856651 0.91804527 0.90556649\n",
            " 0.85828247 0.86159554 0.83057037 0.81367184 0.86788634 0.88109115\n",
            " 0.88073164 0.90914764 0.92758405 0.92760206 0.93039678 0.93495268\n",
            " 0.90683721 0.92507105 0.92979782 0.91613    0.88228223 0.91820805\n",
            " 0.91696133 0.94141016 0.94791198 0.94299276 1.         0.99378193\n",
            " 0.99700838 0.96951193 0.95547381 0.88492329 0.87715518 0.88897929\n",
            " 0.84844353 0.81458953 0.80403103 0.78756392 0.77103637 0.85027003\n",
            " 0.86624094 0.86294978 0.84290103 0.90914727 0.91037703 0.89147508\n",
            " 0.90046382 0.83940211 0.9039966  0.887771   0.90292901 0.92578518\n",
            " 0.91676098 0.87929542 0.89263569 0.77334636 0.7822789  0.78487413\n",
            " 0.73559927 0.73079663 0.68470851 0.67478974 0.58151019 0.64120661\n",
            " 0.58628316 0.58994585 0.54626586 0.60841156 0.60361478 0.6177004\n",
            " 0.60416347 0.56090492 0.54382583 0.56059735 0.58672791 0.57649615\n",
            " 0.59055456 0.61635127 0.57980415 0.55860492 0.56350693 0.52716016\n",
            " 0.52576934 0.5869216  0.57677521 0.58675227 0.55861374 0.56386101\n",
            " 0.55163676 0.51328748 0.47179544 0.44055343 0.42293766 0.41424382\n",
            " 0.40804556 0.40015462 0.38944235 0.37692493]\n",
            "10 day output [[0.364346]]\n",
            "11 day input [0.92684506 0.91086453 0.91856651 0.91804527 0.90556649 0.85828247\n",
            " 0.86159554 0.83057037 0.81367184 0.86788634 0.88109115 0.88073164\n",
            " 0.90914764 0.92758405 0.92760206 0.93039678 0.93495268 0.90683721\n",
            " 0.92507105 0.92979782 0.91613    0.88228223 0.91820805 0.91696133\n",
            " 0.94141016 0.94791198 0.94299276 1.         0.99378193 0.99700838\n",
            " 0.96951193 0.95547381 0.88492329 0.87715518 0.88897929 0.84844353\n",
            " 0.81458953 0.80403103 0.78756392 0.77103637 0.85027003 0.86624094\n",
            " 0.86294978 0.84290103 0.90914727 0.91037703 0.89147508 0.90046382\n",
            " 0.83940211 0.9039966  0.887771   0.90292901 0.92578518 0.91676098\n",
            " 0.87929542 0.89263569 0.77334636 0.7822789  0.78487413 0.73559927\n",
            " 0.73079663 0.68470851 0.67478974 0.58151019 0.64120661 0.58628316\n",
            " 0.58994585 0.54626586 0.60841156 0.60361478 0.6177004  0.60416347\n",
            " 0.56090492 0.54382583 0.56059735 0.58672791 0.57649615 0.59055456\n",
            " 0.61635127 0.57980415 0.55860492 0.56350693 0.52716016 0.52576934\n",
            " 0.5869216  0.57677521 0.58675227 0.55861374 0.56386101 0.55163676\n",
            " 0.51328748 0.47179544 0.44055343 0.42293766 0.41424382 0.40804556\n",
            " 0.40015462 0.38944235 0.37692493 0.364346  ]\n",
            "11 day output [[0.35305744]]\n",
            "12 day input [0.91086453 0.91856651 0.91804527 0.90556649 0.85828247 0.86159554\n",
            " 0.83057037 0.81367184 0.86788634 0.88109115 0.88073164 0.90914764\n",
            " 0.92758405 0.92760206 0.93039678 0.93495268 0.90683721 0.92507105\n",
            " 0.92979782 0.91613    0.88228223 0.91820805 0.91696133 0.94141016\n",
            " 0.94791198 0.94299276 1.         0.99378193 0.99700838 0.96951193\n",
            " 0.95547381 0.88492329 0.87715518 0.88897929 0.84844353 0.81458953\n",
            " 0.80403103 0.78756392 0.77103637 0.85027003 0.86624094 0.86294978\n",
            " 0.84290103 0.90914727 0.91037703 0.89147508 0.90046382 0.83940211\n",
            " 0.9039966  0.887771   0.90292901 0.92578518 0.91676098 0.87929542\n",
            " 0.89263569 0.77334636 0.7822789  0.78487413 0.73559927 0.73079663\n",
            " 0.68470851 0.67478974 0.58151019 0.64120661 0.58628316 0.58994585\n",
            " 0.54626586 0.60841156 0.60361478 0.6177004  0.60416347 0.56090492\n",
            " 0.54382583 0.56059735 0.58672791 0.57649615 0.59055456 0.61635127\n",
            " 0.57980415 0.55860492 0.56350693 0.52716016 0.52576934 0.5869216\n",
            " 0.57677521 0.58675227 0.55861374 0.56386101 0.55163676 0.51328748\n",
            " 0.47179544 0.44055343 0.42293766 0.41424382 0.40804556 0.40015462\n",
            " 0.38944235 0.37692493 0.364346   0.35305744]\n",
            "12 day output [[0.34357467]]\n",
            "13 day input [0.91856651 0.91804527 0.90556649 0.85828247 0.86159554 0.83057037\n",
            " 0.81367184 0.86788634 0.88109115 0.88073164 0.90914764 0.92758405\n",
            " 0.92760206 0.93039678 0.93495268 0.90683721 0.92507105 0.92979782\n",
            " 0.91613    0.88228223 0.91820805 0.91696133 0.94141016 0.94791198\n",
            " 0.94299276 1.         0.99378193 0.99700838 0.96951193 0.95547381\n",
            " 0.88492329 0.87715518 0.88897929 0.84844353 0.81458953 0.80403103\n",
            " 0.78756392 0.77103637 0.85027003 0.86624094 0.86294978 0.84290103\n",
            " 0.90914727 0.91037703 0.89147508 0.90046382 0.83940211 0.9039966\n",
            " 0.887771   0.90292901 0.92578518 0.91676098 0.87929542 0.89263569\n",
            " 0.77334636 0.7822789  0.78487413 0.73559927 0.73079663 0.68470851\n",
            " 0.67478974 0.58151019 0.64120661 0.58628316 0.58994585 0.54626586\n",
            " 0.60841156 0.60361478 0.6177004  0.60416347 0.56090492 0.54382583\n",
            " 0.56059735 0.58672791 0.57649615 0.59055456 0.61635127 0.57980415\n",
            " 0.55860492 0.56350693 0.52716016 0.52576934 0.5869216  0.57677521\n",
            " 0.58675227 0.55861374 0.56386101 0.55163676 0.51328748 0.47179544\n",
            " 0.44055343 0.42293766 0.41424382 0.40804556 0.40015462 0.38944235\n",
            " 0.37692493 0.364346   0.35305744 0.34357467]\n",
            "13 day output [[0.3357168]]\n",
            "14 day input [0.91804527 0.90556649 0.85828247 0.86159554 0.83057037 0.81367184\n",
            " 0.86788634 0.88109115 0.88073164 0.90914764 0.92758405 0.92760206\n",
            " 0.93039678 0.93495268 0.90683721 0.92507105 0.92979782 0.91613\n",
            " 0.88228223 0.91820805 0.91696133 0.94141016 0.94791198 0.94299276\n",
            " 1.         0.99378193 0.99700838 0.96951193 0.95547381 0.88492329\n",
            " 0.87715518 0.88897929 0.84844353 0.81458953 0.80403103 0.78756392\n",
            " 0.77103637 0.85027003 0.86624094 0.86294978 0.84290103 0.90914727\n",
            " 0.91037703 0.89147508 0.90046382 0.83940211 0.9039966  0.887771\n",
            " 0.90292901 0.92578518 0.91676098 0.87929542 0.89263569 0.77334636\n",
            " 0.7822789  0.78487413 0.73559927 0.73079663 0.68470851 0.67478974\n",
            " 0.58151019 0.64120661 0.58628316 0.58994585 0.54626586 0.60841156\n",
            " 0.60361478 0.6177004  0.60416347 0.56090492 0.54382583 0.56059735\n",
            " 0.58672791 0.57649615 0.59055456 0.61635127 0.57980415 0.55860492\n",
            " 0.56350693 0.52716016 0.52576934 0.5869216  0.57677521 0.58675227\n",
            " 0.55861374 0.56386101 0.55163676 0.51328748 0.47179544 0.44055343\n",
            " 0.42293766 0.41424382 0.40804556 0.40015462 0.38944235 0.37692493\n",
            " 0.364346   0.35305744 0.34357467 0.33571681]\n",
            "14 day output [[0.3289882]]\n",
            "15 day input [0.90556649 0.85828247 0.86159554 0.83057037 0.81367184 0.86788634\n",
            " 0.88109115 0.88073164 0.90914764 0.92758405 0.92760206 0.93039678\n",
            " 0.93495268 0.90683721 0.92507105 0.92979782 0.91613    0.88228223\n",
            " 0.91820805 0.91696133 0.94141016 0.94791198 0.94299276 1.\n",
            " 0.99378193 0.99700838 0.96951193 0.95547381 0.88492329 0.87715518\n",
            " 0.88897929 0.84844353 0.81458953 0.80403103 0.78756392 0.77103637\n",
            " 0.85027003 0.86624094 0.86294978 0.84290103 0.90914727 0.91037703\n",
            " 0.89147508 0.90046382 0.83940211 0.9039966  0.887771   0.90292901\n",
            " 0.92578518 0.91676098 0.87929542 0.89263569 0.77334636 0.7822789\n",
            " 0.78487413 0.73559927 0.73079663 0.68470851 0.67478974 0.58151019\n",
            " 0.64120661 0.58628316 0.58994585 0.54626586 0.60841156 0.60361478\n",
            " 0.6177004  0.60416347 0.56090492 0.54382583 0.56059735 0.58672791\n",
            " 0.57649615 0.59055456 0.61635127 0.57980415 0.55860492 0.56350693\n",
            " 0.52716016 0.52576934 0.5869216  0.57677521 0.58675227 0.55861374\n",
            " 0.56386101 0.55163676 0.51328748 0.47179544 0.44055343 0.42293766\n",
            " 0.41424382 0.40804556 0.40015462 0.38944235 0.37692493 0.364346\n",
            " 0.35305744 0.34357467 0.33571681 0.32898819]\n",
            "15 day output [[0.32290798]]\n",
            "16 day input [0.85828247 0.86159554 0.83057037 0.81367184 0.86788634 0.88109115\n",
            " 0.88073164 0.90914764 0.92758405 0.92760206 0.93039678 0.93495268\n",
            " 0.90683721 0.92507105 0.92979782 0.91613    0.88228223 0.91820805\n",
            " 0.91696133 0.94141016 0.94791198 0.94299276 1.         0.99378193\n",
            " 0.99700838 0.96951193 0.95547381 0.88492329 0.87715518 0.88897929\n",
            " 0.84844353 0.81458953 0.80403103 0.78756392 0.77103637 0.85027003\n",
            " 0.86624094 0.86294978 0.84290103 0.90914727 0.91037703 0.89147508\n",
            " 0.90046382 0.83940211 0.9039966  0.887771   0.90292901 0.92578518\n",
            " 0.91676098 0.87929542 0.89263569 0.77334636 0.7822789  0.78487413\n",
            " 0.73559927 0.73079663 0.68470851 0.67478974 0.58151019 0.64120661\n",
            " 0.58628316 0.58994585 0.54626586 0.60841156 0.60361478 0.6177004\n",
            " 0.60416347 0.56090492 0.54382583 0.56059735 0.58672791 0.57649615\n",
            " 0.59055456 0.61635127 0.57980415 0.55860492 0.56350693 0.52716016\n",
            " 0.52576934 0.5869216  0.57677521 0.58675227 0.55861374 0.56386101\n",
            " 0.55163676 0.51328748 0.47179544 0.44055343 0.42293766 0.41424382\n",
            " 0.40804556 0.40015462 0.38944235 0.37692493 0.364346   0.35305744\n",
            " 0.34357467 0.33571681 0.32898819 0.32290798]\n",
            "16 day output [[0.3171729]]\n",
            "17 day input [0.86159554 0.83057037 0.81367184 0.86788634 0.88109115 0.88073164\n",
            " 0.90914764 0.92758405 0.92760206 0.93039678 0.93495268 0.90683721\n",
            " 0.92507105 0.92979782 0.91613    0.88228223 0.91820805 0.91696133\n",
            " 0.94141016 0.94791198 0.94299276 1.         0.99378193 0.99700838\n",
            " 0.96951193 0.95547381 0.88492329 0.87715518 0.88897929 0.84844353\n",
            " 0.81458953 0.80403103 0.78756392 0.77103637 0.85027003 0.86624094\n",
            " 0.86294978 0.84290103 0.90914727 0.91037703 0.89147508 0.90046382\n",
            " 0.83940211 0.9039966  0.887771   0.90292901 0.92578518 0.91676098\n",
            " 0.87929542 0.89263569 0.77334636 0.7822789  0.78487413 0.73559927\n",
            " 0.73079663 0.68470851 0.67478974 0.58151019 0.64120661 0.58628316\n",
            " 0.58994585 0.54626586 0.60841156 0.60361478 0.6177004  0.60416347\n",
            " 0.56090492 0.54382583 0.56059735 0.58672791 0.57649615 0.59055456\n",
            " 0.61635127 0.57980415 0.55860492 0.56350693 0.52716016 0.52576934\n",
            " 0.5869216  0.57677521 0.58675227 0.55861374 0.56386101 0.55163676\n",
            " 0.51328748 0.47179544 0.44055343 0.42293766 0.41424382 0.40804556\n",
            " 0.40015462 0.38944235 0.37692493 0.364346   0.35305744 0.34357467\n",
            " 0.33571681 0.32898819 0.32290798 0.31717291]\n",
            "17 day output [[0.31167266]]\n",
            "18 day input [0.83057037 0.81367184 0.86788634 0.88109115 0.88073164 0.90914764\n",
            " 0.92758405 0.92760206 0.93039678 0.93495268 0.90683721 0.92507105\n",
            " 0.92979782 0.91613    0.88228223 0.91820805 0.91696133 0.94141016\n",
            " 0.94791198 0.94299276 1.         0.99378193 0.99700838 0.96951193\n",
            " 0.95547381 0.88492329 0.87715518 0.88897929 0.84844353 0.81458953\n",
            " 0.80403103 0.78756392 0.77103637 0.85027003 0.86624094 0.86294978\n",
            " 0.84290103 0.90914727 0.91037703 0.89147508 0.90046382 0.83940211\n",
            " 0.9039966  0.887771   0.90292901 0.92578518 0.91676098 0.87929542\n",
            " 0.89263569 0.77334636 0.7822789  0.78487413 0.73559927 0.73079663\n",
            " 0.68470851 0.67478974 0.58151019 0.64120661 0.58628316 0.58994585\n",
            " 0.54626586 0.60841156 0.60361478 0.6177004  0.60416347 0.56090492\n",
            " 0.54382583 0.56059735 0.58672791 0.57649615 0.59055456 0.61635127\n",
            " 0.57980415 0.55860492 0.56350693 0.52716016 0.52576934 0.5869216\n",
            " 0.57677521 0.58675227 0.55861374 0.56386101 0.55163676 0.51328748\n",
            " 0.47179544 0.44055343 0.42293766 0.41424382 0.40804556 0.40015462\n",
            " 0.38944235 0.37692493 0.364346   0.35305744 0.34357467 0.33571681\n",
            " 0.32898819 0.32290798 0.31717291 0.31167266]\n",
            "18 day output [[0.30642447]]\n",
            "19 day input [0.81367184 0.86788634 0.88109115 0.88073164 0.90914764 0.92758405\n",
            " 0.92760206 0.93039678 0.93495268 0.90683721 0.92507105 0.92979782\n",
            " 0.91613    0.88228223 0.91820805 0.91696133 0.94141016 0.94791198\n",
            " 0.94299276 1.         0.99378193 0.99700838 0.96951193 0.95547381\n",
            " 0.88492329 0.87715518 0.88897929 0.84844353 0.81458953 0.80403103\n",
            " 0.78756392 0.77103637 0.85027003 0.86624094 0.86294978 0.84290103\n",
            " 0.90914727 0.91037703 0.89147508 0.90046382 0.83940211 0.9039966\n",
            " 0.887771   0.90292901 0.92578518 0.91676098 0.87929542 0.89263569\n",
            " 0.77334636 0.7822789  0.78487413 0.73559927 0.73079663 0.68470851\n",
            " 0.67478974 0.58151019 0.64120661 0.58628316 0.58994585 0.54626586\n",
            " 0.60841156 0.60361478 0.6177004  0.60416347 0.56090492 0.54382583\n",
            " 0.56059735 0.58672791 0.57649615 0.59055456 0.61635127 0.57980415\n",
            " 0.55860492 0.56350693 0.52716016 0.52576934 0.5869216  0.57677521\n",
            " 0.58675227 0.55861374 0.56386101 0.55163676 0.51328748 0.47179544\n",
            " 0.44055343 0.42293766 0.41424382 0.40804556 0.40015462 0.38944235\n",
            " 0.37692493 0.364346   0.35305744 0.34357467 0.33571681 0.32898819\n",
            " 0.32290798 0.31717291 0.31167266 0.30642447]\n",
            "19 day output [[0.30149353]]\n",
            "20 day input [0.86788634 0.88109115 0.88073164 0.90914764 0.92758405 0.92760206\n",
            " 0.93039678 0.93495268 0.90683721 0.92507105 0.92979782 0.91613\n",
            " 0.88228223 0.91820805 0.91696133 0.94141016 0.94791198 0.94299276\n",
            " 1.         0.99378193 0.99700838 0.96951193 0.95547381 0.88492329\n",
            " 0.87715518 0.88897929 0.84844353 0.81458953 0.80403103 0.78756392\n",
            " 0.77103637 0.85027003 0.86624094 0.86294978 0.84290103 0.90914727\n",
            " 0.91037703 0.89147508 0.90046382 0.83940211 0.9039966  0.887771\n",
            " 0.90292901 0.92578518 0.91676098 0.87929542 0.89263569 0.77334636\n",
            " 0.7822789  0.78487413 0.73559927 0.73079663 0.68470851 0.67478974\n",
            " 0.58151019 0.64120661 0.58628316 0.58994585 0.54626586 0.60841156\n",
            " 0.60361478 0.6177004  0.60416347 0.56090492 0.54382583 0.56059735\n",
            " 0.58672791 0.57649615 0.59055456 0.61635127 0.57980415 0.55860492\n",
            " 0.56350693 0.52716016 0.52576934 0.5869216  0.57677521 0.58675227\n",
            " 0.55861374 0.56386101 0.55163676 0.51328748 0.47179544 0.44055343\n",
            " 0.42293766 0.41424382 0.40804556 0.40015462 0.38944235 0.37692493\n",
            " 0.364346   0.35305744 0.34357467 0.33571681 0.32898819 0.32290798\n",
            " 0.31717291 0.31167266 0.30642447 0.30149353]\n",
            "20 day output [[0.29693422]]\n",
            "21 day input [0.88109115 0.88073164 0.90914764 0.92758405 0.92760206 0.93039678\n",
            " 0.93495268 0.90683721 0.92507105 0.92979782 0.91613    0.88228223\n",
            " 0.91820805 0.91696133 0.94141016 0.94791198 0.94299276 1.\n",
            " 0.99378193 0.99700838 0.96951193 0.95547381 0.88492329 0.87715518\n",
            " 0.88897929 0.84844353 0.81458953 0.80403103 0.78756392 0.77103637\n",
            " 0.85027003 0.86624094 0.86294978 0.84290103 0.90914727 0.91037703\n",
            " 0.89147508 0.90046382 0.83940211 0.9039966  0.887771   0.90292901\n",
            " 0.92578518 0.91676098 0.87929542 0.89263569 0.77334636 0.7822789\n",
            " 0.78487413 0.73559927 0.73079663 0.68470851 0.67478974 0.58151019\n",
            " 0.64120661 0.58628316 0.58994585 0.54626586 0.60841156 0.60361478\n",
            " 0.6177004  0.60416347 0.56090492 0.54382583 0.56059735 0.58672791\n",
            " 0.57649615 0.59055456 0.61635127 0.57980415 0.55860492 0.56350693\n",
            " 0.52716016 0.52576934 0.5869216  0.57677521 0.58675227 0.55861374\n",
            " 0.56386101 0.55163676 0.51328748 0.47179544 0.44055343 0.42293766\n",
            " 0.41424382 0.40804556 0.40015462 0.38944235 0.37692493 0.364346\n",
            " 0.35305744 0.34357467 0.33571681 0.32898819 0.32290798 0.31717291\n",
            " 0.31167266 0.30642447 0.30149353 0.29693422]\n",
            "21 day output [[0.29276508]]\n",
            "22 day input [0.88073164 0.90914764 0.92758405 0.92760206 0.93039678 0.93495268\n",
            " 0.90683721 0.92507105 0.92979782 0.91613    0.88228223 0.91820805\n",
            " 0.91696133 0.94141016 0.94791198 0.94299276 1.         0.99378193\n",
            " 0.99700838 0.96951193 0.95547381 0.88492329 0.87715518 0.88897929\n",
            " 0.84844353 0.81458953 0.80403103 0.78756392 0.77103637 0.85027003\n",
            " 0.86624094 0.86294978 0.84290103 0.90914727 0.91037703 0.89147508\n",
            " 0.90046382 0.83940211 0.9039966  0.887771   0.90292901 0.92578518\n",
            " 0.91676098 0.87929542 0.89263569 0.77334636 0.7822789  0.78487413\n",
            " 0.73559927 0.73079663 0.68470851 0.67478974 0.58151019 0.64120661\n",
            " 0.58628316 0.58994585 0.54626586 0.60841156 0.60361478 0.6177004\n",
            " 0.60416347 0.56090492 0.54382583 0.56059735 0.58672791 0.57649615\n",
            " 0.59055456 0.61635127 0.57980415 0.55860492 0.56350693 0.52716016\n",
            " 0.52576934 0.5869216  0.57677521 0.58675227 0.55861374 0.56386101\n",
            " 0.55163676 0.51328748 0.47179544 0.44055343 0.42293766 0.41424382\n",
            " 0.40804556 0.40015462 0.38944235 0.37692493 0.364346   0.35305744\n",
            " 0.34357467 0.33571681 0.32898819 0.32290798 0.31717291 0.31167266\n",
            " 0.30642447 0.30149353 0.29693422 0.29276508]\n",
            "22 day output [[0.28896967]]\n",
            "23 day input [0.90914764 0.92758405 0.92760206 0.93039678 0.93495268 0.90683721\n",
            " 0.92507105 0.92979782 0.91613    0.88228223 0.91820805 0.91696133\n",
            " 0.94141016 0.94791198 0.94299276 1.         0.99378193 0.99700838\n",
            " 0.96951193 0.95547381 0.88492329 0.87715518 0.88897929 0.84844353\n",
            " 0.81458953 0.80403103 0.78756392 0.77103637 0.85027003 0.86624094\n",
            " 0.86294978 0.84290103 0.90914727 0.91037703 0.89147508 0.90046382\n",
            " 0.83940211 0.9039966  0.887771   0.90292901 0.92578518 0.91676098\n",
            " 0.87929542 0.89263569 0.77334636 0.7822789  0.78487413 0.73559927\n",
            " 0.73079663 0.68470851 0.67478974 0.58151019 0.64120661 0.58628316\n",
            " 0.58994585 0.54626586 0.60841156 0.60361478 0.6177004  0.60416347\n",
            " 0.56090492 0.54382583 0.56059735 0.58672791 0.57649615 0.59055456\n",
            " 0.61635127 0.57980415 0.55860492 0.56350693 0.52716016 0.52576934\n",
            " 0.5869216  0.57677521 0.58675227 0.55861374 0.56386101 0.55163676\n",
            " 0.51328748 0.47179544 0.44055343 0.42293766 0.41424382 0.40804556\n",
            " 0.40015462 0.38944235 0.37692493 0.364346   0.35305744 0.34357467\n",
            " 0.33571681 0.32898819 0.32290798 0.31717291 0.31167266 0.30642447\n",
            " 0.30149353 0.29693422 0.29276508 0.28896967]\n",
            "23 day output [[0.28551087]]\n",
            "24 day input [0.92758405 0.92760206 0.93039678 0.93495268 0.90683721 0.92507105\n",
            " 0.92979782 0.91613    0.88228223 0.91820805 0.91696133 0.94141016\n",
            " 0.94791198 0.94299276 1.         0.99378193 0.99700838 0.96951193\n",
            " 0.95547381 0.88492329 0.87715518 0.88897929 0.84844353 0.81458953\n",
            " 0.80403103 0.78756392 0.77103637 0.85027003 0.86624094 0.86294978\n",
            " 0.84290103 0.90914727 0.91037703 0.89147508 0.90046382 0.83940211\n",
            " 0.9039966  0.887771   0.90292901 0.92578518 0.91676098 0.87929542\n",
            " 0.89263569 0.77334636 0.7822789  0.78487413 0.73559927 0.73079663\n",
            " 0.68470851 0.67478974 0.58151019 0.64120661 0.58628316 0.58994585\n",
            " 0.54626586 0.60841156 0.60361478 0.6177004  0.60416347 0.56090492\n",
            " 0.54382583 0.56059735 0.58672791 0.57649615 0.59055456 0.61635127\n",
            " 0.57980415 0.55860492 0.56350693 0.52716016 0.52576934 0.5869216\n",
            " 0.57677521 0.58675227 0.55861374 0.56386101 0.55163676 0.51328748\n",
            " 0.47179544 0.44055343 0.42293766 0.41424382 0.40804556 0.40015462\n",
            " 0.38944235 0.37692493 0.364346   0.35305744 0.34357467 0.33571681\n",
            " 0.32898819 0.32290798 0.31717291 0.31167266 0.30642447 0.30149353\n",
            " 0.29693422 0.29276508 0.28896967 0.28551087]\n",
            "24 day output [[0.28234565]]\n",
            "25 day input [0.92760206 0.93039678 0.93495268 0.90683721 0.92507105 0.92979782\n",
            " 0.91613    0.88228223 0.91820805 0.91696133 0.94141016 0.94791198\n",
            " 0.94299276 1.         0.99378193 0.99700838 0.96951193 0.95547381\n",
            " 0.88492329 0.87715518 0.88897929 0.84844353 0.81458953 0.80403103\n",
            " 0.78756392 0.77103637 0.85027003 0.86624094 0.86294978 0.84290103\n",
            " 0.90914727 0.91037703 0.89147508 0.90046382 0.83940211 0.9039966\n",
            " 0.887771   0.90292901 0.92578518 0.91676098 0.87929542 0.89263569\n",
            " 0.77334636 0.7822789  0.78487413 0.73559927 0.73079663 0.68470851\n",
            " 0.67478974 0.58151019 0.64120661 0.58628316 0.58994585 0.54626586\n",
            " 0.60841156 0.60361478 0.6177004  0.60416347 0.56090492 0.54382583\n",
            " 0.56059735 0.58672791 0.57649615 0.59055456 0.61635127 0.57980415\n",
            " 0.55860492 0.56350693 0.52716016 0.52576934 0.5869216  0.57677521\n",
            " 0.58675227 0.55861374 0.56386101 0.55163676 0.51328748 0.47179544\n",
            " 0.44055343 0.42293766 0.41424382 0.40804556 0.40015462 0.38944235\n",
            " 0.37692493 0.364346   0.35305744 0.34357467 0.33571681 0.32898819\n",
            " 0.32290798 0.31717291 0.31167266 0.30642447 0.30149353 0.29693422\n",
            " 0.29276508 0.28896967 0.28551087 0.28234565]\n",
            "25 day output [[0.27943584]]\n",
            "26 day input [0.93039678 0.93495268 0.90683721 0.92507105 0.92979782 0.91613\n",
            " 0.88228223 0.91820805 0.91696133 0.94141016 0.94791198 0.94299276\n",
            " 1.         0.99378193 0.99700838 0.96951193 0.95547381 0.88492329\n",
            " 0.87715518 0.88897929 0.84844353 0.81458953 0.80403103 0.78756392\n",
            " 0.77103637 0.85027003 0.86624094 0.86294978 0.84290103 0.90914727\n",
            " 0.91037703 0.89147508 0.90046382 0.83940211 0.9039966  0.887771\n",
            " 0.90292901 0.92578518 0.91676098 0.87929542 0.89263569 0.77334636\n",
            " 0.7822789  0.78487413 0.73559927 0.73079663 0.68470851 0.67478974\n",
            " 0.58151019 0.64120661 0.58628316 0.58994585 0.54626586 0.60841156\n",
            " 0.60361478 0.6177004  0.60416347 0.56090492 0.54382583 0.56059735\n",
            " 0.58672791 0.57649615 0.59055456 0.61635127 0.57980415 0.55860492\n",
            " 0.56350693 0.52716016 0.52576934 0.5869216  0.57677521 0.58675227\n",
            " 0.55861374 0.56386101 0.55163676 0.51328748 0.47179544 0.44055343\n",
            " 0.42293766 0.41424382 0.40804556 0.40015462 0.38944235 0.37692493\n",
            " 0.364346   0.35305744 0.34357467 0.33571681 0.32898819 0.32290798\n",
            " 0.31717291 0.31167266 0.30642447 0.30149353 0.29693422 0.29276508\n",
            " 0.28896967 0.28551087 0.28234565 0.27943584]\n",
            "26 day output [[0.2767527]]\n",
            "27 day input [0.93495268 0.90683721 0.92507105 0.92979782 0.91613    0.88228223\n",
            " 0.91820805 0.91696133 0.94141016 0.94791198 0.94299276 1.\n",
            " 0.99378193 0.99700838 0.96951193 0.95547381 0.88492329 0.87715518\n",
            " 0.88897929 0.84844353 0.81458953 0.80403103 0.78756392 0.77103637\n",
            " 0.85027003 0.86624094 0.86294978 0.84290103 0.90914727 0.91037703\n",
            " 0.89147508 0.90046382 0.83940211 0.9039966  0.887771   0.90292901\n",
            " 0.92578518 0.91676098 0.87929542 0.89263569 0.77334636 0.7822789\n",
            " 0.78487413 0.73559927 0.73079663 0.68470851 0.67478974 0.58151019\n",
            " 0.64120661 0.58628316 0.58994585 0.54626586 0.60841156 0.60361478\n",
            " 0.6177004  0.60416347 0.56090492 0.54382583 0.56059735 0.58672791\n",
            " 0.57649615 0.59055456 0.61635127 0.57980415 0.55860492 0.56350693\n",
            " 0.52716016 0.52576934 0.5869216  0.57677521 0.58675227 0.55861374\n",
            " 0.56386101 0.55163676 0.51328748 0.47179544 0.44055343 0.42293766\n",
            " 0.41424382 0.40804556 0.40015462 0.38944235 0.37692493 0.364346\n",
            " 0.35305744 0.34357467 0.33571681 0.32898819 0.32290798 0.31717291\n",
            " 0.31167266 0.30642447 0.30149353 0.29693422 0.29276508 0.28896967\n",
            " 0.28551087 0.28234565 0.27943584 0.27675271]\n",
            "27 day output [[0.27427602]]\n",
            "28 day input [0.90683721 0.92507105 0.92979782 0.91613    0.88228223 0.91820805\n",
            " 0.91696133 0.94141016 0.94791198 0.94299276 1.         0.99378193\n",
            " 0.99700838 0.96951193 0.95547381 0.88492329 0.87715518 0.88897929\n",
            " 0.84844353 0.81458953 0.80403103 0.78756392 0.77103637 0.85027003\n",
            " 0.86624094 0.86294978 0.84290103 0.90914727 0.91037703 0.89147508\n",
            " 0.90046382 0.83940211 0.9039966  0.887771   0.90292901 0.92578518\n",
            " 0.91676098 0.87929542 0.89263569 0.77334636 0.7822789  0.78487413\n",
            " 0.73559927 0.73079663 0.68470851 0.67478974 0.58151019 0.64120661\n",
            " 0.58628316 0.58994585 0.54626586 0.60841156 0.60361478 0.6177004\n",
            " 0.60416347 0.56090492 0.54382583 0.56059735 0.58672791 0.57649615\n",
            " 0.59055456 0.61635127 0.57980415 0.55860492 0.56350693 0.52716016\n",
            " 0.52576934 0.5869216  0.57677521 0.58675227 0.55861374 0.56386101\n",
            " 0.55163676 0.51328748 0.47179544 0.44055343 0.42293766 0.41424382\n",
            " 0.40804556 0.40015462 0.38944235 0.37692493 0.364346   0.35305744\n",
            " 0.34357467 0.33571681 0.32898819 0.32290798 0.31717291 0.31167266\n",
            " 0.30642447 0.30149353 0.29693422 0.29276508 0.28896967 0.28551087\n",
            " 0.28234565 0.27943584 0.27675271 0.27427602]\n",
            "28 day output [[0.27199176]]\n",
            "29 day input [0.92507105 0.92979782 0.91613    0.88228223 0.91820805 0.91696133\n",
            " 0.94141016 0.94791198 0.94299276 1.         0.99378193 0.99700838\n",
            " 0.96951193 0.95547381 0.88492329 0.87715518 0.88897929 0.84844353\n",
            " 0.81458953 0.80403103 0.78756392 0.77103637 0.85027003 0.86624094\n",
            " 0.86294978 0.84290103 0.90914727 0.91037703 0.89147508 0.90046382\n",
            " 0.83940211 0.9039966  0.887771   0.90292901 0.92578518 0.91676098\n",
            " 0.87929542 0.89263569 0.77334636 0.7822789  0.78487413 0.73559927\n",
            " 0.73079663 0.68470851 0.67478974 0.58151019 0.64120661 0.58628316\n",
            " 0.58994585 0.54626586 0.60841156 0.60361478 0.6177004  0.60416347\n",
            " 0.56090492 0.54382583 0.56059735 0.58672791 0.57649615 0.59055456\n",
            " 0.61635127 0.57980415 0.55860492 0.56350693 0.52716016 0.52576934\n",
            " 0.5869216  0.57677521 0.58675227 0.55861374 0.56386101 0.55163676\n",
            " 0.51328748 0.47179544 0.44055343 0.42293766 0.41424382 0.40804556\n",
            " 0.40015462 0.38944235 0.37692493 0.364346   0.35305744 0.34357467\n",
            " 0.33571681 0.32898819 0.32290798 0.31717291 0.31167266 0.30642447\n",
            " 0.30149353 0.29693422 0.29276508 0.28896967 0.28551087 0.28234565\n",
            " 0.27943584 0.27675271 0.27427602 0.27199176]\n",
            "29 day output [[0.26988855]]\n",
            "[[0.5516367554664612], [0.5132874846458435], [0.4717954397201538], [0.4405534267425537], [0.42293766140937805], [0.41424381732940674], [0.40804556012153625], [0.40015462040901184], [0.3894423544406891], [0.37692493200302124], [0.3643459975719452], [0.3530574440956116], [0.3435746729373932], [0.3357168138027191], [0.3289881944656372], [0.3229079842567444], [0.31717291474342346], [0.3116726577281952], [0.30642446875572205], [0.3014935255050659], [0.29693421721458435], [0.2927650809288025], [0.28896966576576233], [0.2855108678340912], [0.28234565258026123], [0.2794358432292938], [0.2767527103424072], [0.2742760181427002], [0.2719917595386505], [0.2698885500431061]]\n"
          ],
          "name": "stdout"
        }
      ]
    },
    {
      "cell_type": "code",
      "metadata": {
        "id": "210-l7Ma0Iq6"
      },
      "source": [
        "day_new=np.arange(1,101)\n",
        "day_pred=np.arange(101,131)"
      ],
      "execution_count": null,
      "outputs": []
    },
    {
      "cell_type": "code",
      "metadata": {
        "id": "SFZmxQjj0Iq8"
      },
      "source": [
        "import matplotlib.pyplot as plt"
      ],
      "execution_count": null,
      "outputs": []
    },
    {
      "cell_type": "code",
      "metadata": {
        "colab": {
          "base_uri": "https://localhost:8080/"
        },
        "id": "FuXdnVsl0Iq9",
        "outputId": "8e164c6d-9107-48b5-9b3b-dc328a2888e8"
      },
      "source": [
        "len(df1)"
      ],
      "execution_count": null,
      "outputs": [
        {
          "output_type": "execute_result",
          "data": {
            "text/plain": [
              "2458"
            ]
          },
          "metadata": {
            "tags": []
          },
          "execution_count": 49
        }
      ]
    },
    {
      "cell_type": "code",
      "metadata": {
        "id": "4w0NB_nX0Iq_"
      },
      "source": [
        ""
      ],
      "execution_count": null,
      "outputs": []
    },
    {
      "cell_type": "code",
      "metadata": {
        "colab": {
          "base_uri": "https://localhost:8080/",
          "height": 719
        },
        "id": "zOeSSwzT0IrA",
        "outputId": "a2fa0714-5a0f-4ce7-81a0-d0e38acf9345"
      },
      "source": [
        "plt.plot(day_new,scaler.inverse_transform(df1[2358:]))\n",
        "plt.plot(day_pred,scaler.inverse_transform(lst_output))"
      ],
      "execution_count": null,
      "outputs": [
        {
          "output_type": "execute_result",
          "data": {
            "text/plain": [
              "[<matplotlib.lines.Line2D at 0x7f9b6eb5ec50>]"
            ]
          },
          "metadata": {
            "tags": []
          },
          "execution_count": 50
        },
        {
          "output_type": "display_data",
          "data": {
            "image/png": "[encoded data removed]",
            "text/plain": [
              "<Figure size 1296x864 with 1 Axes>"
            ]
          },
          "metadata": {
            "tags": [],
            "needs_background": "light"
          }
        }
      ]
    },
    {
      "cell_type": "code",
      "metadata": {
        "colab": {
          "base_uri": "https://localhost:8080/",
          "height": 719
        },
        "id": "5q1t1wM_0IrC",
        "outputId": "ec0e7c3a-0f2f-45d6-86e7-c02dbd88a386"
      },
      "source": [
        "df3=df1.tolist()\n",
        "df3.extend(lst_output)\n",
        "plt.plot(df3[2200:])"
      ],
      "execution_count": null,
      "outputs": [
        {
          "output_type": "execute_result",
          "data": {
            "text/plain": [
              "[<matplotlib.lines.Line2D at 0x7f9b6ec3ff90>]"
            ]
          },
          "metadata": {
            "tags": []
          },
          "execution_count": 51
        },
        {
          "output_type": "display_data",
          "data": {
            "image/png": "[encoded data removed]",
            "text/plain": [
              "<Figure size 1296x864 with 1 Axes>"
            ]
          },
          "metadata": {
            "tags": [],
            "needs_background": "light"
          }
        }
      ]
    },
    {
      "cell_type": "code",
      "metadata": {
        "id": "-Qf7Y6c_0IrN"
      },
      "source": [
        "df3=scaler.inverse_transform(df3).tolist()"
      ],
      "execution_count": null,
      "outputs": []
    },
    {
      "cell_type": "code",
      "metadata": {
        "colab": {
          "base_uri": "https://localhost:8080/",
          "height": 719
        },
        "id": "lfhG6tCz0IrW",
        "outputId": "6ac02b6f-bd15-48e5-975f-a2b39a6553b3"
      },
      "source": [
        "plt.plot(df3)"
      ],
      "execution_count": null,
      "outputs": [
        {
          "output_type": "execute_result",
          "data": {
            "text/plain": [
              "[<matplotlib.lines.Line2D at 0x7f9b6eba5890>]"
            ]
          },
          "metadata": {
            "tags": []
          },
          "execution_count": 53
        },
        {
          "output_type": "display_data",
          "data": {
            "image/png": "[encoded data removed]",
            "text/plain": [
              "<Figure size 1296x864 with 1 Axes>"
            ]
          },
          "metadata": {
            "tags": [],
            "needs_background": "light"
          }
        }
      ]
    },
    {
      "cell_type": "code",
      "metadata": {
        "id": "henWt3zM0IrX"
      },
      "source": [
        ""
      ],
      "execution_count": null,
      "outputs": []
    }
  ]
}